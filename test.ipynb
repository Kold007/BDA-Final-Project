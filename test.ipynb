{
 "cells": [
  {
   "cell_type": "code",
   "execution_count": 176,
   "metadata": {},
   "outputs": [],
   "source": [
    "import csv\n",
    "import pandas as pd"
   ]
  },
  {
   "cell_type": "code",
   "execution_count": 177,
   "metadata": {},
   "outputs": [],
   "source": [
    "model_scores_columns = ['Model', 'Score']\n",
    "data_dict = [{'Model': 'SVM', 'Score': 79.2}, {'Model': 'KNN', 'Score': 89.2}]\n",
    "\n",
    "with open('model_score.csv', 'w') as csvfile:\n",
    "    writer = csv.DictWriter(csvfile, fieldnames=model_scores_columns)\n",
    "    writer.writeheader()\n",
    "    writer.writerows(data_dict)"
   ]
  },
  {
   "cell_type": "code",
   "execution_count": 178,
   "metadata": {},
   "outputs": [],
   "source": [
    "def write_score_to_csv(row_data, filename = 'model_score.csv'):\n",
    "    # with open(filename, 'a') as csvfile:\n",
    "    #     writer = csv.DictWriter(csvfile, fieldnames=model_scores_columns)\n",
    "    #     writer.writerows(row_data)\n",
    "    \n",
    "    with open(filename, 'r') as csvfile:\n",
    "        reader = csv.DictReader(csvfile)\n",
    "        \n",
    "        models = []\n",
    "        for row in reader:\n",
    "           for key, value in row.items():\n",
    "               if key == 'Model':\n",
    "                   models.append(value)\n",
    "            \n",
    "        for dct in row_data:\n",
    "            if dct['Model'] not in models:\n",
    "                with open(filename, 'a') as csvfile:\n",
    "                    writer = csv.DictWriter(csvfile, fieldnames=model_scores_columns)\n",
    "                    writer.writerows([dct])\n",
    "\n"
   ]
  },
  {
   "cell_type": "code",
   "execution_count": 180,
   "metadata": {},
   "outputs": [],
   "source": [
    "model_data = [{'Model': 'RF', 'Score': 93.4}, {'Model': 'Tree', 'Score': 95}]\n",
    "write_score_to_csv(model_data)"
   ]
  },
  {
   "cell_type": "code",
   "execution_count": null,
   "metadata": {},
   "outputs": [],
   "source": [
    "model_data_2 = [{{'Model': 'RF', 'Score': 9999}}]\n",
    "write_score_to_csv(model_data)"
   ]
  }
 ],
 "metadata": {
  "interpreter": {
   "hash": "40d3a090f54c6569ab1632332b64b2c03c39dcf918b08424e98f38b5ae0af88f"
  },
  "kernelspec": {
   "display_name": "Python 3.8.5 ('base')",
   "language": "python",
   "name": "python3"
  },
  "language_info": {
   "codemirror_mode": {
    "name": "ipython",
    "version": 3
   },
   "file_extension": ".py",
   "mimetype": "text/x-python",
   "name": "python",
   "nbconvert_exporter": "python",
   "pygments_lexer": "ipython3",
   "version": "3.8.5"
  },
  "orig_nbformat": 4
 },
 "nbformat": 4,
 "nbformat_minor": 2
}
