{
 "cells": [
  {
   "cell_type": "markdown",
   "metadata": {},
   "source": [
    "# Logistic regression"
   ]
  },
  {
   "cell_type": "markdown",
   "metadata": {},
   "source": [
    "In this notebook we are going to build logistic regression models on our full dataset and small size datasets. For the full size dataset we will build two models. One where we do not pay attention to class imbalance and one where we do. For the small size dataset where we have not manually balanced the data, we will create two models with the same procedure as with the full size dataset. However, with the manually balanced small dataset we will create the model without using the parameter class_weight = 'balance'. In this way, we can compare wether it works best to manually balance the dataset or use the built in parameter class_weight in LogisticRegression. "
   ]
  },
  {
   "cell_type": "markdown",
   "metadata": {},
   "source": [
    "## Libraries\n",
    "---"
   ]
  },
  {
   "cell_type": "code",
   "execution_count": 40,
   "metadata": {},
   "outputs": [],
   "source": [
    "import pandas as pd\n",
    "import numpy as np\n",
    "from sklearn.model_selection import train_test_split\n",
    "from sklearn.linear_model import LogisticRegression\n",
    "from sklearn.metrics import classification_report, confusion_matrix\n",
    "import matplotlib.pyplot as plt\n",
    "import seaborn as sns"
   ]
  },
  {
   "cell_type": "markdown",
   "metadata": {},
   "source": [
    "## Logistic Regression on the full size dataset\n",
    "---"
   ]
  },
  {
   "cell_type": "markdown",
   "metadata": {},
   "source": [
    "### Loading and splitting the data"
   ]
  },
  {
   "cell_type": "code",
   "execution_count": 2,
   "metadata": {},
   "outputs": [
    {
     "data": {
      "text/html": [
       "<div>\n",
       "<style scoped>\n",
       "    .dataframe tbody tr th:only-of-type {\n",
       "        vertical-align: middle;\n",
       "    }\n",
       "\n",
       "    .dataframe tbody tr th {\n",
       "        vertical-align: top;\n",
       "    }\n",
       "\n",
       "    .dataframe thead th {\n",
       "        text-align: right;\n",
       "    }\n",
       "</style>\n",
       "<table border=\"1\" class=\"dataframe\">\n",
       "  <thead>\n",
       "    <tr style=\"text-align: right;\">\n",
       "      <th></th>\n",
       "      <th>Unnamed: 0</th>\n",
       "      <th>id</th>\n",
       "      <th>Gender</th>\n",
       "      <th>Age</th>\n",
       "      <th>Driving_License</th>\n",
       "      <th>Previously_Insured</th>\n",
       "      <th>Vehicle_Damage</th>\n",
       "      <th>Annual_Premium</th>\n",
       "      <th>Vintage</th>\n",
       "      <th>Response</th>\n",
       "      <th>...</th>\n",
       "      <th>Policy_Sales_Channel_155</th>\n",
       "      <th>Policy_Sales_Channel_156</th>\n",
       "      <th>Policy_Sales_Channel_157</th>\n",
       "      <th>Policy_Sales_Channel_158</th>\n",
       "      <th>Policy_Sales_Channel_159</th>\n",
       "      <th>Policy_Sales_Channel_160</th>\n",
       "      <th>Policy_Sales_Channel_163</th>\n",
       "      <th>Vehicle_Age_1-2 Year</th>\n",
       "      <th>Vehicle_Age_&lt; 1 Year</th>\n",
       "      <th>Vehicle_Age_&gt; 2 Years</th>\n",
       "    </tr>\n",
       "  </thead>\n",
       "  <tbody>\n",
       "    <tr>\n",
       "      <th>0</th>\n",
       "      <td>0</td>\n",
       "      <td>1</td>\n",
       "      <td>1</td>\n",
       "      <td>44</td>\n",
       "      <td>1</td>\n",
       "      <td>0</td>\n",
       "      <td>1</td>\n",
       "      <td>40454.0</td>\n",
       "      <td>217</td>\n",
       "      <td>1</td>\n",
       "      <td>...</td>\n",
       "      <td>0</td>\n",
       "      <td>0</td>\n",
       "      <td>0</td>\n",
       "      <td>0</td>\n",
       "      <td>0</td>\n",
       "      <td>0</td>\n",
       "      <td>0</td>\n",
       "      <td>0</td>\n",
       "      <td>0</td>\n",
       "      <td>1</td>\n",
       "    </tr>\n",
       "    <tr>\n",
       "      <th>1</th>\n",
       "      <td>1</td>\n",
       "      <td>2</td>\n",
       "      <td>1</td>\n",
       "      <td>76</td>\n",
       "      <td>1</td>\n",
       "      <td>0</td>\n",
       "      <td>0</td>\n",
       "      <td>33536.0</td>\n",
       "      <td>183</td>\n",
       "      <td>0</td>\n",
       "      <td>...</td>\n",
       "      <td>0</td>\n",
       "      <td>0</td>\n",
       "      <td>0</td>\n",
       "      <td>0</td>\n",
       "      <td>0</td>\n",
       "      <td>0</td>\n",
       "      <td>0</td>\n",
       "      <td>1</td>\n",
       "      <td>0</td>\n",
       "      <td>0</td>\n",
       "    </tr>\n",
       "    <tr>\n",
       "      <th>2</th>\n",
       "      <td>2</td>\n",
       "      <td>3</td>\n",
       "      <td>1</td>\n",
       "      <td>47</td>\n",
       "      <td>1</td>\n",
       "      <td>0</td>\n",
       "      <td>1</td>\n",
       "      <td>38294.0</td>\n",
       "      <td>27</td>\n",
       "      <td>1</td>\n",
       "      <td>...</td>\n",
       "      <td>0</td>\n",
       "      <td>0</td>\n",
       "      <td>0</td>\n",
       "      <td>0</td>\n",
       "      <td>0</td>\n",
       "      <td>0</td>\n",
       "      <td>0</td>\n",
       "      <td>0</td>\n",
       "      <td>0</td>\n",
       "      <td>1</td>\n",
       "    </tr>\n",
       "    <tr>\n",
       "      <th>3</th>\n",
       "      <td>3</td>\n",
       "      <td>4</td>\n",
       "      <td>1</td>\n",
       "      <td>21</td>\n",
       "      <td>1</td>\n",
       "      <td>1</td>\n",
       "      <td>0</td>\n",
       "      <td>28619.0</td>\n",
       "      <td>203</td>\n",
       "      <td>0</td>\n",
       "      <td>...</td>\n",
       "      <td>0</td>\n",
       "      <td>0</td>\n",
       "      <td>0</td>\n",
       "      <td>0</td>\n",
       "      <td>0</td>\n",
       "      <td>0</td>\n",
       "      <td>0</td>\n",
       "      <td>0</td>\n",
       "      <td>1</td>\n",
       "      <td>0</td>\n",
       "    </tr>\n",
       "    <tr>\n",
       "      <th>4</th>\n",
       "      <td>4</td>\n",
       "      <td>5</td>\n",
       "      <td>0</td>\n",
       "      <td>29</td>\n",
       "      <td>1</td>\n",
       "      <td>1</td>\n",
       "      <td>0</td>\n",
       "      <td>27496.0</td>\n",
       "      <td>39</td>\n",
       "      <td>0</td>\n",
       "      <td>...</td>\n",
       "      <td>0</td>\n",
       "      <td>0</td>\n",
       "      <td>0</td>\n",
       "      <td>0</td>\n",
       "      <td>0</td>\n",
       "      <td>0</td>\n",
       "      <td>0</td>\n",
       "      <td>0</td>\n",
       "      <td>1</td>\n",
       "      <td>0</td>\n",
       "    </tr>\n",
       "  </tbody>\n",
       "</table>\n",
       "<p>5 rows × 221 columns</p>\n",
       "</div>"
      ],
      "text/plain": [
       "   Unnamed: 0  id  Gender  Age  Driving_License  Previously_Insured  \\\n",
       "0           0   1       1   44                1                   0   \n",
       "1           1   2       1   76                1                   0   \n",
       "2           2   3       1   47                1                   0   \n",
       "3           3   4       1   21                1                   1   \n",
       "4           4   5       0   29                1                   1   \n",
       "\n",
       "   Vehicle_Damage  Annual_Premium  Vintage  Response  ...  \\\n",
       "0               1         40454.0      217         1  ...   \n",
       "1               0         33536.0      183         0  ...   \n",
       "2               1         38294.0       27         1  ...   \n",
       "3               0         28619.0      203         0  ...   \n",
       "4               0         27496.0       39         0  ...   \n",
       "\n",
       "   Policy_Sales_Channel_155  Policy_Sales_Channel_156  \\\n",
       "0                         0                         0   \n",
       "1                         0                         0   \n",
       "2                         0                         0   \n",
       "3                         0                         0   \n",
       "4                         0                         0   \n",
       "\n",
       "   Policy_Sales_Channel_157  Policy_Sales_Channel_158  \\\n",
       "0                         0                         0   \n",
       "1                         0                         0   \n",
       "2                         0                         0   \n",
       "3                         0                         0   \n",
       "4                         0                         0   \n",
       "\n",
       "   Policy_Sales_Channel_159  Policy_Sales_Channel_160  \\\n",
       "0                         0                         0   \n",
       "1                         0                         0   \n",
       "2                         0                         0   \n",
       "3                         0                         0   \n",
       "4                         0                         0   \n",
       "\n",
       "   Policy_Sales_Channel_163  Vehicle_Age_1-2 Year  Vehicle_Age_< 1 Year  \\\n",
       "0                         0                     0                     0   \n",
       "1                         0                     1                     0   \n",
       "2                         0                     0                     0   \n",
       "3                         0                     0                     1   \n",
       "4                         0                     0                     1   \n",
       "\n",
       "   Vehicle_Age_> 2 Years  \n",
       "0                      1  \n",
       "1                      0  \n",
       "2                      1  \n",
       "3                      0  \n",
       "4                      0  \n",
       "\n",
       "[5 rows x 221 columns]"
      ]
     },
     "execution_count": 2,
     "metadata": {},
     "output_type": "execute_result"
    }
   ],
   "source": [
    "df = pd.read_csv('../data/pre-processed-data/data-full-size.csv')\n",
    "df.head()"
   ]
  },
  {
   "cell_type": "code",
   "execution_count": 3,
   "metadata": {},
   "outputs": [
    {
     "data": {
      "text/html": [
       "<div>\n",
       "<style scoped>\n",
       "    .dataframe tbody tr th:only-of-type {\n",
       "        vertical-align: middle;\n",
       "    }\n",
       "\n",
       "    .dataframe tbody tr th {\n",
       "        vertical-align: top;\n",
       "    }\n",
       "\n",
       "    .dataframe thead th {\n",
       "        text-align: right;\n",
       "    }\n",
       "</style>\n",
       "<table border=\"1\" class=\"dataframe\">\n",
       "  <thead>\n",
       "    <tr style=\"text-align: right;\">\n",
       "      <th></th>\n",
       "      <th>Gender</th>\n",
       "      <th>Age</th>\n",
       "      <th>Driving_License</th>\n",
       "      <th>Previously_Insured</th>\n",
       "      <th>Vehicle_Damage</th>\n",
       "      <th>Annual_Premium</th>\n",
       "      <th>Vintage</th>\n",
       "      <th>Response</th>\n",
       "      <th>Region_Code_0</th>\n",
       "      <th>Region_Code_1</th>\n",
       "      <th>...</th>\n",
       "      <th>Policy_Sales_Channel_155</th>\n",
       "      <th>Policy_Sales_Channel_156</th>\n",
       "      <th>Policy_Sales_Channel_157</th>\n",
       "      <th>Policy_Sales_Channel_158</th>\n",
       "      <th>Policy_Sales_Channel_159</th>\n",
       "      <th>Policy_Sales_Channel_160</th>\n",
       "      <th>Policy_Sales_Channel_163</th>\n",
       "      <th>Vehicle_Age_1-2 Year</th>\n",
       "      <th>Vehicle_Age_&lt; 1 Year</th>\n",
       "      <th>Vehicle_Age_&gt; 2 Years</th>\n",
       "    </tr>\n",
       "  </thead>\n",
       "  <tbody>\n",
       "    <tr>\n",
       "      <th>0</th>\n",
       "      <td>1</td>\n",
       "      <td>44</td>\n",
       "      <td>1</td>\n",
       "      <td>0</td>\n",
       "      <td>1</td>\n",
       "      <td>40454.0</td>\n",
       "      <td>217</td>\n",
       "      <td>1</td>\n",
       "      <td>0</td>\n",
       "      <td>0</td>\n",
       "      <td>...</td>\n",
       "      <td>0</td>\n",
       "      <td>0</td>\n",
       "      <td>0</td>\n",
       "      <td>0</td>\n",
       "      <td>0</td>\n",
       "      <td>0</td>\n",
       "      <td>0</td>\n",
       "      <td>0</td>\n",
       "      <td>0</td>\n",
       "      <td>1</td>\n",
       "    </tr>\n",
       "    <tr>\n",
       "      <th>1</th>\n",
       "      <td>1</td>\n",
       "      <td>76</td>\n",
       "      <td>1</td>\n",
       "      <td>0</td>\n",
       "      <td>0</td>\n",
       "      <td>33536.0</td>\n",
       "      <td>183</td>\n",
       "      <td>0</td>\n",
       "      <td>0</td>\n",
       "      <td>0</td>\n",
       "      <td>...</td>\n",
       "      <td>0</td>\n",
       "      <td>0</td>\n",
       "      <td>0</td>\n",
       "      <td>0</td>\n",
       "      <td>0</td>\n",
       "      <td>0</td>\n",
       "      <td>0</td>\n",
       "      <td>1</td>\n",
       "      <td>0</td>\n",
       "      <td>0</td>\n",
       "    </tr>\n",
       "    <tr>\n",
       "      <th>2</th>\n",
       "      <td>1</td>\n",
       "      <td>47</td>\n",
       "      <td>1</td>\n",
       "      <td>0</td>\n",
       "      <td>1</td>\n",
       "      <td>38294.0</td>\n",
       "      <td>27</td>\n",
       "      <td>1</td>\n",
       "      <td>0</td>\n",
       "      <td>0</td>\n",
       "      <td>...</td>\n",
       "      <td>0</td>\n",
       "      <td>0</td>\n",
       "      <td>0</td>\n",
       "      <td>0</td>\n",
       "      <td>0</td>\n",
       "      <td>0</td>\n",
       "      <td>0</td>\n",
       "      <td>0</td>\n",
       "      <td>0</td>\n",
       "      <td>1</td>\n",
       "    </tr>\n",
       "    <tr>\n",
       "      <th>3</th>\n",
       "      <td>1</td>\n",
       "      <td>21</td>\n",
       "      <td>1</td>\n",
       "      <td>1</td>\n",
       "      <td>0</td>\n",
       "      <td>28619.0</td>\n",
       "      <td>203</td>\n",
       "      <td>0</td>\n",
       "      <td>0</td>\n",
       "      <td>0</td>\n",
       "      <td>...</td>\n",
       "      <td>0</td>\n",
       "      <td>0</td>\n",
       "      <td>0</td>\n",
       "      <td>0</td>\n",
       "      <td>0</td>\n",
       "      <td>0</td>\n",
       "      <td>0</td>\n",
       "      <td>0</td>\n",
       "      <td>1</td>\n",
       "      <td>0</td>\n",
       "    </tr>\n",
       "    <tr>\n",
       "      <th>4</th>\n",
       "      <td>0</td>\n",
       "      <td>29</td>\n",
       "      <td>1</td>\n",
       "      <td>1</td>\n",
       "      <td>0</td>\n",
       "      <td>27496.0</td>\n",
       "      <td>39</td>\n",
       "      <td>0</td>\n",
       "      <td>0</td>\n",
       "      <td>0</td>\n",
       "      <td>...</td>\n",
       "      <td>0</td>\n",
       "      <td>0</td>\n",
       "      <td>0</td>\n",
       "      <td>0</td>\n",
       "      <td>0</td>\n",
       "      <td>0</td>\n",
       "      <td>0</td>\n",
       "      <td>0</td>\n",
       "      <td>1</td>\n",
       "      <td>0</td>\n",
       "    </tr>\n",
       "    <tr>\n",
       "      <th>...</th>\n",
       "      <td>...</td>\n",
       "      <td>...</td>\n",
       "      <td>...</td>\n",
       "      <td>...</td>\n",
       "      <td>...</td>\n",
       "      <td>...</td>\n",
       "      <td>...</td>\n",
       "      <td>...</td>\n",
       "      <td>...</td>\n",
       "      <td>...</td>\n",
       "      <td>...</td>\n",
       "      <td>...</td>\n",
       "      <td>...</td>\n",
       "      <td>...</td>\n",
       "      <td>...</td>\n",
       "      <td>...</td>\n",
       "      <td>...</td>\n",
       "      <td>...</td>\n",
       "      <td>...</td>\n",
       "      <td>...</td>\n",
       "      <td>...</td>\n",
       "    </tr>\n",
       "    <tr>\n",
       "      <th>381104</th>\n",
       "      <td>1</td>\n",
       "      <td>74</td>\n",
       "      <td>1</td>\n",
       "      <td>1</td>\n",
       "      <td>0</td>\n",
       "      <td>30170.0</td>\n",
       "      <td>88</td>\n",
       "      <td>0</td>\n",
       "      <td>0</td>\n",
       "      <td>0</td>\n",
       "      <td>...</td>\n",
       "      <td>0</td>\n",
       "      <td>0</td>\n",
       "      <td>0</td>\n",
       "      <td>0</td>\n",
       "      <td>0</td>\n",
       "      <td>0</td>\n",
       "      <td>0</td>\n",
       "      <td>1</td>\n",
       "      <td>0</td>\n",
       "      <td>0</td>\n",
       "    </tr>\n",
       "    <tr>\n",
       "      <th>381105</th>\n",
       "      <td>1</td>\n",
       "      <td>30</td>\n",
       "      <td>1</td>\n",
       "      <td>1</td>\n",
       "      <td>0</td>\n",
       "      <td>40016.0</td>\n",
       "      <td>131</td>\n",
       "      <td>0</td>\n",
       "      <td>0</td>\n",
       "      <td>0</td>\n",
       "      <td>...</td>\n",
       "      <td>0</td>\n",
       "      <td>0</td>\n",
       "      <td>0</td>\n",
       "      <td>0</td>\n",
       "      <td>0</td>\n",
       "      <td>0</td>\n",
       "      <td>0</td>\n",
       "      <td>0</td>\n",
       "      <td>1</td>\n",
       "      <td>0</td>\n",
       "    </tr>\n",
       "    <tr>\n",
       "      <th>381106</th>\n",
       "      <td>1</td>\n",
       "      <td>21</td>\n",
       "      <td>1</td>\n",
       "      <td>1</td>\n",
       "      <td>0</td>\n",
       "      <td>35118.0</td>\n",
       "      <td>161</td>\n",
       "      <td>0</td>\n",
       "      <td>0</td>\n",
       "      <td>0</td>\n",
       "      <td>...</td>\n",
       "      <td>0</td>\n",
       "      <td>0</td>\n",
       "      <td>0</td>\n",
       "      <td>0</td>\n",
       "      <td>0</td>\n",
       "      <td>1</td>\n",
       "      <td>0</td>\n",
       "      <td>0</td>\n",
       "      <td>1</td>\n",
       "      <td>0</td>\n",
       "    </tr>\n",
       "    <tr>\n",
       "      <th>381107</th>\n",
       "      <td>0</td>\n",
       "      <td>68</td>\n",
       "      <td>1</td>\n",
       "      <td>0</td>\n",
       "      <td>1</td>\n",
       "      <td>44617.0</td>\n",
       "      <td>74</td>\n",
       "      <td>0</td>\n",
       "      <td>0</td>\n",
       "      <td>0</td>\n",
       "      <td>...</td>\n",
       "      <td>0</td>\n",
       "      <td>0</td>\n",
       "      <td>0</td>\n",
       "      <td>0</td>\n",
       "      <td>0</td>\n",
       "      <td>0</td>\n",
       "      <td>0</td>\n",
       "      <td>0</td>\n",
       "      <td>0</td>\n",
       "      <td>1</td>\n",
       "    </tr>\n",
       "    <tr>\n",
       "      <th>381108</th>\n",
       "      <td>1</td>\n",
       "      <td>46</td>\n",
       "      <td>1</td>\n",
       "      <td>0</td>\n",
       "      <td>0</td>\n",
       "      <td>41777.0</td>\n",
       "      <td>237</td>\n",
       "      <td>0</td>\n",
       "      <td>0</td>\n",
       "      <td>0</td>\n",
       "      <td>...</td>\n",
       "      <td>0</td>\n",
       "      <td>0</td>\n",
       "      <td>0</td>\n",
       "      <td>0</td>\n",
       "      <td>0</td>\n",
       "      <td>0</td>\n",
       "      <td>0</td>\n",
       "      <td>1</td>\n",
       "      <td>0</td>\n",
       "      <td>0</td>\n",
       "    </tr>\n",
       "  </tbody>\n",
       "</table>\n",
       "<p>381109 rows × 219 columns</p>\n",
       "</div>"
      ],
      "text/plain": [
       "        Gender  Age  Driving_License  Previously_Insured  Vehicle_Damage  \\\n",
       "0            1   44                1                   0               1   \n",
       "1            1   76                1                   0               0   \n",
       "2            1   47                1                   0               1   \n",
       "3            1   21                1                   1               0   \n",
       "4            0   29                1                   1               0   \n",
       "...        ...  ...              ...                 ...             ...   \n",
       "381104       1   74                1                   1               0   \n",
       "381105       1   30                1                   1               0   \n",
       "381106       1   21                1                   1               0   \n",
       "381107       0   68                1                   0               1   \n",
       "381108       1   46                1                   0               0   \n",
       "\n",
       "        Annual_Premium  Vintage  Response  Region_Code_0  Region_Code_1  ...  \\\n",
       "0              40454.0      217         1              0              0  ...   \n",
       "1              33536.0      183         0              0              0  ...   \n",
       "2              38294.0       27         1              0              0  ...   \n",
       "3              28619.0      203         0              0              0  ...   \n",
       "4              27496.0       39         0              0              0  ...   \n",
       "...                ...      ...       ...            ...            ...  ...   \n",
       "381104         30170.0       88         0              0              0  ...   \n",
       "381105         40016.0      131         0              0              0  ...   \n",
       "381106         35118.0      161         0              0              0  ...   \n",
       "381107         44617.0       74         0              0              0  ...   \n",
       "381108         41777.0      237         0              0              0  ...   \n",
       "\n",
       "        Policy_Sales_Channel_155  Policy_Sales_Channel_156  \\\n",
       "0                              0                         0   \n",
       "1                              0                         0   \n",
       "2                              0                         0   \n",
       "3                              0                         0   \n",
       "4                              0                         0   \n",
       "...                          ...                       ...   \n",
       "381104                         0                         0   \n",
       "381105                         0                         0   \n",
       "381106                         0                         0   \n",
       "381107                         0                         0   \n",
       "381108                         0                         0   \n",
       "\n",
       "        Policy_Sales_Channel_157  Policy_Sales_Channel_158  \\\n",
       "0                              0                         0   \n",
       "1                              0                         0   \n",
       "2                              0                         0   \n",
       "3                              0                         0   \n",
       "4                              0                         0   \n",
       "...                          ...                       ...   \n",
       "381104                         0                         0   \n",
       "381105                         0                         0   \n",
       "381106                         0                         0   \n",
       "381107                         0                         0   \n",
       "381108                         0                         0   \n",
       "\n",
       "        Policy_Sales_Channel_159  Policy_Sales_Channel_160  \\\n",
       "0                              0                         0   \n",
       "1                              0                         0   \n",
       "2                              0                         0   \n",
       "3                              0                         0   \n",
       "4                              0                         0   \n",
       "...                          ...                       ...   \n",
       "381104                         0                         0   \n",
       "381105                         0                         0   \n",
       "381106                         0                         1   \n",
       "381107                         0                         0   \n",
       "381108                         0                         0   \n",
       "\n",
       "        Policy_Sales_Channel_163  Vehicle_Age_1-2 Year  Vehicle_Age_< 1 Year  \\\n",
       "0                              0                     0                     0   \n",
       "1                              0                     1                     0   \n",
       "2                              0                     0                     0   \n",
       "3                              0                     0                     1   \n",
       "4                              0                     0                     1   \n",
       "...                          ...                   ...                   ...   \n",
       "381104                         0                     1                     0   \n",
       "381105                         0                     0                     1   \n",
       "381106                         0                     0                     1   \n",
       "381107                         0                     0                     0   \n",
       "381108                         0                     1                     0   \n",
       "\n",
       "        Vehicle_Age_> 2 Years  \n",
       "0                           1  \n",
       "1                           0  \n",
       "2                           1  \n",
       "3                           0  \n",
       "4                           0  \n",
       "...                       ...  \n",
       "381104                      0  \n",
       "381105                      0  \n",
       "381106                      0  \n",
       "381107                      1  \n",
       "381108                      0  \n",
       "\n",
       "[381109 rows x 219 columns]"
      ]
     },
     "execution_count": 3,
     "metadata": {},
     "output_type": "execute_result"
    }
   ],
   "source": [
    "df = df.iloc[:,2:]\n",
    "df"
   ]
  },
  {
   "cell_type": "code",
   "execution_count": 5,
   "metadata": {},
   "outputs": [
    {
     "data": {
      "text/plain": [
       "0    334399\n",
       "1     46710\n",
       "Name: Response, dtype: int64"
      ]
     },
     "execution_count": 5,
     "metadata": {},
     "output_type": "execute_result"
    }
   ],
   "source": [
    "df['Response'].value_counts()"
   ]
  },
  {
   "cell_type": "code",
   "execution_count": 6,
   "metadata": {},
   "outputs": [],
   "source": [
    "X = df.drop('Response', axis = 1)\n",
    "y = df['Response']"
   ]
  },
  {
   "cell_type": "code",
   "execution_count": 7,
   "metadata": {},
   "outputs": [],
   "source": [
    "X_train, X_test, y_train, y_test = train_test_split(X, y, random_state = 12)"
   ]
  },
  {
   "cell_type": "code",
   "execution_count": 8,
   "metadata": {},
   "outputs": [
    {
     "name": "stdout",
     "output_type": "stream",
     "text": [
      "(285831, 218)\n",
      "(285831,)\n",
      "(95278, 218)\n",
      "(95278,)\n"
     ]
    }
   ],
   "source": [
    "print(X_train.shape)\n",
    "print(y_train.shape)\n",
    "print(X_test.shape)\n",
    "print(y_test.shape)"
   ]
  },
  {
   "cell_type": "markdown",
   "metadata": {},
   "source": [
    "### Creating and tuning the model"
   ]
  },
  {
   "cell_type": "code",
   "execution_count": 10,
   "metadata": {},
   "outputs": [
    {
     "name": "stdout",
     "output_type": "stream",
     "text": [
      "With our initial Logistic regression model we are able to get a test score of 0.876246352778186\n"
     ]
    }
   ],
   "source": [
    "#Note that we just set c to some random value. \n",
    "l_reg = LogisticRegression(C = 0.08)\n",
    "l_reg.fit(X_train, y_train)\n",
    "\n",
    "print('With our initial Logistic regression model we are able to get a test score of {}'.format(l_reg.score(X_test, y_test)))"
   ]
  },
  {
   "cell_type": "markdown",
   "metadata": {},
   "source": [
    "Now we will try to optimize our logistic regression model by choosing some different values of C and experimenting with the parameter class_weight = 'balanced' - as mentioned in the introduction. This is done because our target value 'Response' has the following balance {0: 334399, 1: 46710}. \n",
    "\n",
    "The “balanced” mode uses the values of y to automatically adjust weights inversely proportional to class frequencies in the input data as n_samples / (n_classes * np.bincount(y)). [link](https://scikit-learn.org/stable/modules/generated/sklearn.linear_model.LogisticRegression.html)\n",
    "\n",
    "Below we have manually computed the weights via the formula above to see what the weights look like."
   ]
  },
  {
   "cell_type": "code",
   "execution_count": 21,
   "metadata": {},
   "outputs": [
    {
     "name": "stdout",
     "output_type": "stream",
     "text": [
      "Class 0: 35830630836.0, Class 1: 5019049444.5\n"
     ]
    }
   ],
   "source": [
    "weights = 285831 / 2 * np.bincount(y_train)\n",
    "print('Class 0: {}, Class 1: {}'.format(weights[0], weights[1]))"
   ]
  },
  {
   "cell_type": "code",
   "execution_count": 22,
   "metadata": {},
   "outputs": [],
   "source": [
    "def logistic_c_trials(c_list, X_train, X_test, y_train, y_test):\n",
    "    scores_dict = {'Train Score': [], 'Test Score': [], 'C': []}\n",
    "    \n",
    "    for c in c_list:\n",
    "        #We increase the number of iterations since we are given a warning that it says try to increase. \n",
    "        model = LogisticRegression(C=c, max_iter=10000)\n",
    "\n",
    "        model.fit(X_train, y_train)\n",
    "        scores_dict['Train Score'].append(model.score(X_train, y_train))\n",
    "        scores_dict['Test Score'].append(model.score(X_test, y_test))\n",
    "        scores_dict['C'].append(c)\n",
    "    \n",
    "    return scores_dict"
   ]
  },
  {
   "cell_type": "code",
   "execution_count": 23,
   "metadata": {},
   "outputs": [],
   "source": [
    "c_list = [0.0000001, 0.000001, 0.0002, 0.005, 0.7, 100, 10000]\n",
    "results = logistic_c_trials(c_list, X_train, X_test, y_train, y_test)"
   ]
  },
  {
   "cell_type": "code",
   "execution_count": 24,
   "metadata": {},
   "outputs": [
    {
     "data": {
      "text/plain": [
       "{'Train Score': [0.8771336908872726,\n",
       "  0.8771336908872726,\n",
       "  0.8771336908872726,\n",
       "  0.8757342625537468,\n",
       "  0.8751325083703307,\n",
       "  0.8751255112286631,\n",
       "  0.8751255112286631],\n",
       " 'Test Score': [0.8783454732467096,\n",
       "  0.8783454732467096,\n",
       "  0.8783454732467096,\n",
       "  0.8765192384390941,\n",
       "  0.8761938747664728,\n",
       "  0.8762043703688155,\n",
       "  0.8762043703688155],\n",
       " 'C': [1e-07, 1e-06, 0.0002, 0.005, 0.7, 100, 10000]}"
      ]
     },
     "execution_count": 24,
     "metadata": {},
     "output_type": "execute_result"
    }
   ],
   "source": [
    "results"
   ]
  },
  {
   "cell_type": "code",
   "execution_count": 25,
   "metadata": {},
   "outputs": [],
   "source": [
    "def logistic_c_trials_balanced(c_list, X_train, X_test, y_train, y_test):\n",
    "    scores_dict = {'Train Score': [], 'Test Score': [], 'C': []}\n",
    "    \n",
    "    for c in c_list:\n",
    "        #We increase the number of iterations since we are given a warning that it says try to increase. \n",
    "        #Note, that we set class_weight = 'balanced' to see if can make a difference. \n",
    "        model = LogisticRegression(C=c, max_iter=10000, class_weight='balanced')\n",
    "\n",
    "        model.fit(X_train, y_train)\n",
    "        scores_dict['Train Score'].append(model.score(X_train, y_train))\n",
    "        scores_dict['Test Score'].append(model.score(X_test, y_test))\n",
    "        scores_dict['C'].append(c)\n",
    "    \n",
    "    return scores_dict"
   ]
  },
  {
   "cell_type": "code",
   "execution_count": 26,
   "metadata": {},
   "outputs": [],
   "source": [
    "results_balanced = logistic_c_trials_balanced(c_list, X_train, X_test, y_train, y_test)"
   ]
  },
  {
   "cell_type": "code",
   "execution_count": 27,
   "metadata": {},
   "outputs": [
    {
     "data": {
      "text/plain": [
       "{'Train Score': [0.4668772806308623,\n",
       "  0.5269827275557935,\n",
       "  0.7039964174634662,\n",
       "  0.7129807473647015,\n",
       "  0.7137504329481407,\n",
       "  0.7137609286606421,\n",
       "  0.7137609286606421],\n",
       " 'Test Score': [0.46561640672558197,\n",
       "  0.5263439618799723,\n",
       "  0.7037721194819371,\n",
       "  0.7126723902684775,\n",
       "  0.713512038455887,\n",
       "  0.7135015428535444,\n",
       "  0.7135015428535444],\n",
       " 'C': [1e-07, 1e-06, 0.0002, 0.005, 0.7, 100, 10000]}"
      ]
     },
     "execution_count": 27,
     "metadata": {},
     "output_type": "execute_result"
    }
   ],
   "source": [
    "results_balanced"
   ]
  },
  {
   "cell_type": "code",
   "execution_count": 29,
   "metadata": {},
   "outputs": [
    {
     "data": {
      "image/png": "[encoded data removed]",
      "text/plain": [
       "<Figure size 1020x1020 with 2 Axes>"
      ]
     },
     "metadata": {
      "needs_background": "light"
     },
     "output_type": "display_data"
    }
   ],
   "source": [
    "fig, ax = plt.subplots(nrows = 2, ncols=1, figsize = (6,6), dpi = 170)\n",
    "ax[0].plot(range(len(results['C'])), results['Test Score'], label = 'Test')\n",
    "ax[0].plot(range(len(results['C'])), results['Train Score'], label = 'Train')\n",
    "ax[0].set_xticks(range(len(c_list)))\n",
    "ax[0].set_xticklabels(c_list)\n",
    "ax[0].legend()\n",
    "ax[0].set(xlabel = 'C', ylabel = 'Score', title = 'Score per C value, class_weight = None')\n",
    "\n",
    "ax[1].plot(range(len(results_balanced['C'])), results_balanced['Test Score'], label = 'Test', alpha = 0.8)\n",
    "ax[1].plot(range(len(results_balanced['C'])), results_balanced['Train Score'], label = 'Train', alpha = 0.8)\n",
    "ax[1].set_xticks(range(len(c_list)))\n",
    "ax[1].set_xticklabels(c_list)\n",
    "ax[1].legend()\n",
    "ax[1].set(xlabel = 'C', ylabel = 'Score', title = 'Score per C value, class_weight = balanced')\n",
    "\n",
    "plt.tight_layout()\n",
    "plt.show()"
   ]
  },
  {
   "cell_type": "code",
   "execution_count": 30,
   "metadata": {},
   "outputs": [],
   "source": [
    "def find_best_c(c_list, test_scores):\n",
    "    max_test_score = max(test_scores)\n",
    "    max_test_score_index = np.argmax(test_scores)\n",
    "    best_c = c_list[max_test_score_index]\n",
    "    best_c_formatted = 'The C value that gives the highest test score is {:.7f} and the score is {:.14%}'.format(best_c, max_test_score)\n",
    "\n",
    "    return best_c_formatted"
   ]
  },
  {
   "cell_type": "code",
   "execution_count": 31,
   "metadata": {},
   "outputs": [
    {
     "data": {
      "text/plain": [
       "'The C value that gives the highest test score is 0.0000001 and the score is 87.83454732467096%'"
      ]
     },
     "execution_count": 31,
     "metadata": {},
     "output_type": "execute_result"
    }
   ],
   "source": [
    "find_best_c(c_list, results['Test Score'])"
   ]
  },
  {
   "cell_type": "code",
   "execution_count": 33,
   "metadata": {},
   "outputs": [
    {
     "data": {
      "text/plain": [
       "'The C value that gives the highest test score is 0.7000000 and the score is 71.35120384558870%'"
      ]
     },
     "execution_count": 33,
     "metadata": {},
     "output_type": "execute_result"
    }
   ],
   "source": [
    "find_best_c(c_list, results_balanced['Test Score'])"
   ]
  },
  {
   "cell_type": "markdown",
   "metadata": {},
   "source": [
    "### Evaluating the models"
   ]
  },
  {
   "cell_type": "markdown",
   "metadata": {},
   "source": [
    "#### Model with class_weight = 'None'"
   ]
  },
  {
   "cell_type": "code",
   "execution_count": 34,
   "metadata": {},
   "outputs": [
    {
     "name": "stdout",
     "output_type": "stream",
     "text": [
      "With our final Logistic regression model we are able to get a test score of 87.83454732467096%\n"
     ]
    }
   ],
   "source": [
    "l_reg = LogisticRegression(C = 0.0000001)\n",
    "l_reg.fit(X_train, y_train)\n",
    "\n",
    "print('With our final Logistic regression model we are able to get a test score of {:.14%}'.format(l_reg.score(X_test, y_test)))"
   ]
  },
  {
   "cell_type": "markdown",
   "metadata": {},
   "source": [
    "Link to features of logstic regression: [here](https://towardsdatascience.com/interpreting-coefficients-in-linear-and-logistic-regression-6ddf1295f6f1)"
   ]
  },
  {
   "cell_type": "code",
   "execution_count": 35,
   "metadata": {},
   "outputs": [
    {
     "data": {
      "text/plain": [
       "[('Vehicle_Damage', 1.0004678846872552),\n",
       " ('Region_Code_28', 1.0001847185294386),\n",
       " ('Policy_Sales_Channel_26', 1.0001276962096386),\n",
       " ('Vehicle_Age_1-2 Year', 1.000093373073971),\n",
       " ('Policy_Sales_Channel_124', 1.0000808758473139),\n",
       " ('Vehicle_Age_> 2 Years', 1.0000744136850843),\n",
       " ('Policy_Sales_Channel_154', 1.0000155477054187),\n",
       " ('Policy_Sales_Channel_163', 1.0000107171510413),\n",
       " ('Policy_Sales_Channel_122', 1.0000099120264212),\n",
       " ('Policy_Sales_Channel_157', 1.0000084693380398)]"
      ]
     },
     "execution_count": 35,
     "metadata": {},
     "output_type": "execute_result"
    }
   ],
   "source": [
    "sorted(list(zip(X.columns, np.exp((l_reg.coef_[0])))), key=lambda x: x[1], reverse = True)[:10]"
   ]
  },
  {
   "cell_type": "code",
   "execution_count": 36,
   "metadata": {},
   "outputs": [
    {
     "data": {
      "text/plain": [
       "[('Region_Code_30', 0.9999608180663919),\n",
       " ('Region_Code_8', 0.9999551165501042),\n",
       " ('Policy_Sales_Channel_160', 0.999893801993364),\n",
       " ('Gender', 0.999871513118668),\n",
       " ('Driving_License', 0.9995795862143428),\n",
       " ('Policy_Sales_Channel_152', 0.9994723198468524),\n",
       " ('Vehicle_Age_< 1 Year', 0.9994095432506398),\n",
       " ('Previously_Insured', 0.9991601936692486),\n",
       " ('Vintage', 0.9949369851276239),\n",
       " ('Age', 0.9910819900191078)]"
      ]
     },
     "execution_count": 36,
     "metadata": {},
     "output_type": "execute_result"
    }
   ],
   "source": [
    "sorted(list(zip(X.columns, np.exp((l_reg.coef_[0])))), key=lambda x: x[1], reverse = True)[-10:]"
   ]
  },
  {
   "cell_type": "code",
   "execution_count": 37,
   "metadata": {},
   "outputs": [
    {
     "data": {
      "text/plain": [
       "array([[83687,     0],\n",
       "       [11591,     0]])"
      ]
     },
     "execution_count": 37,
     "metadata": {},
     "output_type": "execute_result"
    }
   ],
   "source": [
    "confusion_matrix(y_test, l_reg.predict(X_test))"
   ]
  },
  {
   "cell_type": "code",
   "execution_count": 78,
   "metadata": {},
   "outputs": [
    {
     "name": "stdout",
     "output_type": "stream",
     "text": [
      "                precision    recall  f1-score   support\n",
      "\n",
      "Not interested       0.88      1.00      0.94     83687\n",
      "    Interested       0.00      0.00      0.00     11591\n",
      "\n",
      "      accuracy                           0.88     95278\n",
      "     macro avg       0.44      0.50      0.47     95278\n",
      "  weighted avg       0.77      0.88      0.82     95278\n",
      "\n"
     ]
    },
    {
     "name": "stderr",
     "output_type": "stream",
     "text": [
      "/opt/anaconda3/lib/python3.8/site-packages/sklearn/metrics/_classification.py:1221: UndefinedMetricWarning: Precision and F-score are ill-defined and being set to 0.0 in labels with no predicted samples. Use `zero_division` parameter to control this behavior.\n",
      "  _warn_prf(average, modifier, msg_start, len(result))\n"
     ]
    }
   ],
   "source": [
    "print(classification_report(y_test, l_reg.predict(X_test), target_names = ['Not interested', 'Interested']))"
   ]
  },
  {
   "cell_type": "code",
   "execution_count": 56,
   "metadata": {},
   "outputs": [
    {
     "name": "stderr",
     "output_type": "stream",
     "text": [
      "/opt/anaconda3/lib/python3.8/site-packages/sklearn/metrics/_classification.py:1221: UndefinedMetricWarning: Precision and F-score are ill-defined and being set to 0.0 in labels with no predicted samples. Use `zero_division` parameter to control this behavior.\n",
      "  _warn_prf(average, modifier, msg_start, len(result))\n"
     ]
    }
   ],
   "source": [
    "l_reg_clf_report = classification_report(y_test, l_reg.predict(X_test), target_names=['Not Interested', 'Interested'], output_dict=True)"
   ]
  },
  {
   "cell_type": "code",
   "execution_count": 74,
   "metadata": {},
   "outputs": [],
   "source": [
    "def plot_clf_report(clf_report, title):\n",
    "    plt.figure(figsize = (5,4), dpi = 170)\n",
    "    fig = sns.heatmap(pd.DataFrame(clf_report).iloc[:-1, :].T, annot=True, center = 0.0)\n",
    "    fig.set_title(title)\n",
    "    plt.show()"
   ]
  },
  {
   "cell_type": "code",
   "execution_count": 76,
   "metadata": {},
   "outputs": [
    {
     "data": {
      "image/png": "[encoded data removed]",
      "text/plain": [
       "<Figure size 850x680 with 2 Axes>"
      ]
     },
     "metadata": {
      "needs_background": "light"
     },
     "output_type": "display_data"
    }
   ],
   "source": [
    "plot_clf_report(l_reg_clf_report, 'Clf report, class_weight = None')"
   ]
  },
  {
   "cell_type": "markdown",
   "metadata": {},
   "source": [
    "#### Model with class_weight = 'balanced'"
   ]
  },
  {
   "cell_type": "code",
   "execution_count": 79,
   "metadata": {},
   "outputs": [
    {
     "name": "stdout",
     "output_type": "stream",
     "text": [
      "With our final balanced Logistic regression model we are able to get a test score of 71.35120384558870%\n"
     ]
    }
   ],
   "source": [
    "l_reg_balanced = LogisticRegression(C = 0.7000000, class_weight='balanced')\n",
    "l_reg_balanced.fit(X_train, y_train)\n",
    "\n",
    "print('With our final balanced Logistic regression model we are able to get a test score of {:.14%}'.format(l_reg_balanced.score(X_test, y_test)))"
   ]
  },
  {
   "cell_type": "code",
   "execution_count": 80,
   "metadata": {},
   "outputs": [
    {
     "data": {
      "text/plain": [
       "[('Vehicle_Damage', 4.5472875790073495),\n",
       " ('Vehicle_Age_1-2 Year', 1.6730721407882292),\n",
       " ('Region_Code_28', 1.5468144831801125),\n",
       " ('Policy_Sales_Channel_26', 1.4195990188051344),\n",
       " ('Policy_Sales_Channel_124', 1.3441389579555865),\n",
       " ('Vehicle_Age_> 2 Years', 1.1897829761061878),\n",
       " ('Gender', 1.0891095336414893),\n",
       " ('Policy_Sales_Channel_157', 1.0655189165494807),\n",
       " ('Policy_Sales_Channel_156', 1.0649166103991032),\n",
       " ('Policy_Sales_Channel_154', 1.0562982482006604)]"
      ]
     },
     "execution_count": 80,
     "metadata": {},
     "output_type": "execute_result"
    }
   ],
   "source": [
    "sorted(list(zip(X.columns, np.exp((l_reg_balanced.coef_[0])))), key=lambda x: x[1], reverse = True)[:10]"
   ]
  },
  {
   "cell_type": "code",
   "execution_count": 81,
   "metadata": {},
   "outputs": [
    {
     "data": {
      "text/plain": [
       "[('Region_Code_30', 0.9999608180663919),\n",
       " ('Region_Code_8', 0.9999551165501042),\n",
       " ('Policy_Sales_Channel_160', 0.999893801993364),\n",
       " ('Gender', 0.999871513118668),\n",
       " ('Driving_License', 0.9995795862143428),\n",
       " ('Policy_Sales_Channel_152', 0.9994723198468524),\n",
       " ('Vehicle_Age_< 1 Year', 0.9994095432506398),\n",
       " ('Previously_Insured', 0.9991601936692486),\n",
       " ('Vintage', 0.9949369851276239),\n",
       " ('Age', 0.9910819900191078)]"
      ]
     },
     "execution_count": 81,
     "metadata": {},
     "output_type": "execute_result"
    }
   ],
   "source": [
    "sorted(list(zip(X.columns, np.exp((l_reg.coef_[0])))), key=lambda x: x[1], reverse = True)[-10:]"
   ]
  },
  {
   "cell_type": "code",
   "execution_count": 82,
   "metadata": {},
   "outputs": [
    {
     "data": {
      "text/plain": [
       "array([[58026, 25661],\n",
       "       [ 1635,  9956]])"
      ]
     },
     "execution_count": 82,
     "metadata": {},
     "output_type": "execute_result"
    }
   ],
   "source": [
    "confusion_matrix(y_test, l_reg_balanced.predict(X_test))"
   ]
  },
  {
   "cell_type": "code",
   "execution_count": 83,
   "metadata": {},
   "outputs": [
    {
     "name": "stdout",
     "output_type": "stream",
     "text": [
      "                precision    recall  f1-score   support\n",
      "\n",
      "Not Interested       0.97      0.69      0.81     83687\n",
      "    Interested       0.28      0.86      0.42     11591\n",
      "\n",
      "      accuracy                           0.71     95278\n",
      "     macro avg       0.63      0.78      0.62     95278\n",
      "  weighted avg       0.89      0.71      0.76     95278\n",
      "\n"
     ]
    }
   ],
   "source": [
    "print(classification_report(y_test, l_reg_balanced.predict(X_test), target_names=['Not Interested', 'Interested']))"
   ]
  },
  {
   "cell_type": "code",
   "execution_count": 85,
   "metadata": {},
   "outputs": [],
   "source": [
    "l_reg_balanced_clf_report = classification_report(y_test, l_reg_balanced.predict(X_test), target_names=['Not interested', 'Interested'], output_dict=True)"
   ]
  },
  {
   "cell_type": "code",
   "execution_count": 87,
   "metadata": {},
   "outputs": [
    {
     "data": {
      "image/png": "[encoded data removed]",
      "text/plain": [
       "<Figure size 850x680 with 2 Axes>"
      ]
     },
     "metadata": {
      "needs_background": "light"
     },
     "output_type": "display_data"
    }
   ],
   "source": [
    "plot_clf_report(l_reg_balanced_clf_report, 'Clf report, class_weight = Balanced')"
   ]
  },
  {
   "cell_type": "markdown",
   "metadata": {},
   "source": [
    "## Logistic Regression on small size dataset\n",
    "---"
   ]
  },
  {
   "cell_type": "markdown",
   "metadata": {},
   "source": [
    "### Loading and splitting the dataset"
   ]
  },
  {
   "cell_type": "code",
   "execution_count": 88,
   "metadata": {},
   "outputs": [
    {
     "data": {
      "text/html": [
       "<div>\n",
       "<style scoped>\n",
       "    .dataframe tbody tr th:only-of-type {\n",
       "        vertical-align: middle;\n",
       "    }\n",
       "\n",
       "    .dataframe tbody tr th {\n",
       "        vertical-align: top;\n",
       "    }\n",
       "\n",
       "    .dataframe thead th {\n",
       "        text-align: right;\n",
       "    }\n",
       "</style>\n",
       "<table border=\"1\" class=\"dataframe\">\n",
       "  <thead>\n",
       "    <tr style=\"text-align: right;\">\n",
       "      <th></th>\n",
       "      <th>Unnamed: 0</th>\n",
       "      <th>id</th>\n",
       "      <th>Gender</th>\n",
       "      <th>Age</th>\n",
       "      <th>Driving_License</th>\n",
       "      <th>Previously_Insured</th>\n",
       "      <th>Vehicle_Damage</th>\n",
       "      <th>Annual_Premium</th>\n",
       "      <th>Vintage</th>\n",
       "      <th>Response</th>\n",
       "      <th>...</th>\n",
       "      <th>Policy_Sales_Channel_155</th>\n",
       "      <th>Policy_Sales_Channel_156</th>\n",
       "      <th>Policy_Sales_Channel_157</th>\n",
       "      <th>Policy_Sales_Channel_158</th>\n",
       "      <th>Policy_Sales_Channel_159</th>\n",
       "      <th>Policy_Sales_Channel_160</th>\n",
       "      <th>Policy_Sales_Channel_163</th>\n",
       "      <th>Vehicle_Age_1-2 Year</th>\n",
       "      <th>Vehicle_Age_&lt; 1 Year</th>\n",
       "      <th>Vehicle_Age_&gt; 2 Years</th>\n",
       "    </tr>\n",
       "  </thead>\n",
       "  <tbody>\n",
       "    <tr>\n",
       "      <th>0</th>\n",
       "      <td>35377</td>\n",
       "      <td>35378</td>\n",
       "      <td>1</td>\n",
       "      <td>58</td>\n",
       "      <td>1</td>\n",
       "      <td>0</td>\n",
       "      <td>1</td>\n",
       "      <td>22811.0</td>\n",
       "      <td>29</td>\n",
       "      <td>0</td>\n",
       "      <td>...</td>\n",
       "      <td>0</td>\n",
       "      <td>0</td>\n",
       "      <td>0</td>\n",
       "      <td>0</td>\n",
       "      <td>0</td>\n",
       "      <td>0</td>\n",
       "      <td>0</td>\n",
       "      <td>1</td>\n",
       "      <td>0</td>\n",
       "      <td>0</td>\n",
       "    </tr>\n",
       "    <tr>\n",
       "      <th>1</th>\n",
       "      <td>19830</td>\n",
       "      <td>19831</td>\n",
       "      <td>1</td>\n",
       "      <td>21</td>\n",
       "      <td>1</td>\n",
       "      <td>0</td>\n",
       "      <td>1</td>\n",
       "      <td>33282.0</td>\n",
       "      <td>159</td>\n",
       "      <td>0</td>\n",
       "      <td>...</td>\n",
       "      <td>0</td>\n",
       "      <td>0</td>\n",
       "      <td>0</td>\n",
       "      <td>0</td>\n",
       "      <td>0</td>\n",
       "      <td>1</td>\n",
       "      <td>0</td>\n",
       "      <td>0</td>\n",
       "      <td>1</td>\n",
       "      <td>0</td>\n",
       "    </tr>\n",
       "    <tr>\n",
       "      <th>2</th>\n",
       "      <td>128911</td>\n",
       "      <td>128912</td>\n",
       "      <td>1</td>\n",
       "      <td>23</td>\n",
       "      <td>1</td>\n",
       "      <td>0</td>\n",
       "      <td>1</td>\n",
       "      <td>39853.0</td>\n",
       "      <td>213</td>\n",
       "      <td>0</td>\n",
       "      <td>...</td>\n",
       "      <td>0</td>\n",
       "      <td>0</td>\n",
       "      <td>0</td>\n",
       "      <td>0</td>\n",
       "      <td>0</td>\n",
       "      <td>0</td>\n",
       "      <td>0</td>\n",
       "      <td>0</td>\n",
       "      <td>1</td>\n",
       "      <td>0</td>\n",
       "    </tr>\n",
       "    <tr>\n",
       "      <th>3</th>\n",
       "      <td>120005</td>\n",
       "      <td>120006</td>\n",
       "      <td>1</td>\n",
       "      <td>20</td>\n",
       "      <td>1</td>\n",
       "      <td>0</td>\n",
       "      <td>0</td>\n",
       "      <td>29252.0</td>\n",
       "      <td>146</td>\n",
       "      <td>0</td>\n",
       "      <td>...</td>\n",
       "      <td>0</td>\n",
       "      <td>0</td>\n",
       "      <td>0</td>\n",
       "      <td>0</td>\n",
       "      <td>0</td>\n",
       "      <td>1</td>\n",
       "      <td>0</td>\n",
       "      <td>0</td>\n",
       "      <td>1</td>\n",
       "      <td>0</td>\n",
       "    </tr>\n",
       "    <tr>\n",
       "      <th>4</th>\n",
       "      <td>180819</td>\n",
       "      <td>180820</td>\n",
       "      <td>0</td>\n",
       "      <td>63</td>\n",
       "      <td>1</td>\n",
       "      <td>0</td>\n",
       "      <td>1</td>\n",
       "      <td>45202.0</td>\n",
       "      <td>196</td>\n",
       "      <td>0</td>\n",
       "      <td>...</td>\n",
       "      <td>0</td>\n",
       "      <td>0</td>\n",
       "      <td>0</td>\n",
       "      <td>0</td>\n",
       "      <td>0</td>\n",
       "      <td>0</td>\n",
       "      <td>0</td>\n",
       "      <td>1</td>\n",
       "      <td>0</td>\n",
       "      <td>0</td>\n",
       "    </tr>\n",
       "  </tbody>\n",
       "</table>\n",
       "<p>5 rows × 221 columns</p>\n",
       "</div>"
      ],
      "text/plain": [
       "   Unnamed: 0      id  Gender  Age  Driving_License  Previously_Insured  \\\n",
       "0       35377   35378       1   58                1                   0   \n",
       "1       19830   19831       1   21                1                   0   \n",
       "2      128911  128912       1   23                1                   0   \n",
       "3      120005  120006       1   20                1                   0   \n",
       "4      180819  180820       0   63                1                   0   \n",
       "\n",
       "   Vehicle_Damage  Annual_Premium  Vintage  Response  ...  \\\n",
       "0               1         22811.0       29         0  ...   \n",
       "1               1         33282.0      159         0  ...   \n",
       "2               1         39853.0      213         0  ...   \n",
       "3               0         29252.0      146         0  ...   \n",
       "4               1         45202.0      196         0  ...   \n",
       "\n",
       "   Policy_Sales_Channel_155  Policy_Sales_Channel_156  \\\n",
       "0                         0                         0   \n",
       "1                         0                         0   \n",
       "2                         0                         0   \n",
       "3                         0                         0   \n",
       "4                         0                         0   \n",
       "\n",
       "   Policy_Sales_Channel_157  Policy_Sales_Channel_158  \\\n",
       "0                         0                         0   \n",
       "1                         0                         0   \n",
       "2                         0                         0   \n",
       "3                         0                         0   \n",
       "4                         0                         0   \n",
       "\n",
       "   Policy_Sales_Channel_159  Policy_Sales_Channel_160  \\\n",
       "0                         0                         0   \n",
       "1                         0                         1   \n",
       "2                         0                         0   \n",
       "3                         0                         1   \n",
       "4                         0                         0   \n",
       "\n",
       "   Policy_Sales_Channel_163  Vehicle_Age_1-2 Year  Vehicle_Age_< 1 Year  \\\n",
       "0                         0                     1                     0   \n",
       "1                         0                     0                     1   \n",
       "2                         0                     0                     1   \n",
       "3                         0                     0                     1   \n",
       "4                         0                     1                     0   \n",
       "\n",
       "   Vehicle_Age_> 2 Years  \n",
       "0                      0  \n",
       "1                      0  \n",
       "2                      0  \n",
       "3                      0  \n",
       "4                      0  \n",
       "\n",
       "[5 rows x 221 columns]"
      ]
     },
     "execution_count": 88,
     "metadata": {},
     "output_type": "execute_result"
    }
   ],
   "source": [
    "df_small = pd.read_csv('../data/pre-processed-data/data-small-size.csv')\n",
    "df_small.head()"
   ]
  },
  {
   "cell_type": "code",
   "execution_count": 89,
   "metadata": {},
   "outputs": [
    {
     "data": {
      "text/html": [
       "<div>\n",
       "<style scoped>\n",
       "    .dataframe tbody tr th:only-of-type {\n",
       "        vertical-align: middle;\n",
       "    }\n",
       "\n",
       "    .dataframe tbody tr th {\n",
       "        vertical-align: top;\n",
       "    }\n",
       "\n",
       "    .dataframe thead th {\n",
       "        text-align: right;\n",
       "    }\n",
       "</style>\n",
       "<table border=\"1\" class=\"dataframe\">\n",
       "  <thead>\n",
       "    <tr style=\"text-align: right;\">\n",
       "      <th></th>\n",
       "      <th>Gender</th>\n",
       "      <th>Age</th>\n",
       "      <th>Driving_License</th>\n",
       "      <th>Previously_Insured</th>\n",
       "      <th>Vehicle_Damage</th>\n",
       "      <th>Annual_Premium</th>\n",
       "      <th>Vintage</th>\n",
       "      <th>Response</th>\n",
       "      <th>Region_Code_0</th>\n",
       "      <th>Region_Code_1</th>\n",
       "      <th>...</th>\n",
       "      <th>Policy_Sales_Channel_155</th>\n",
       "      <th>Policy_Sales_Channel_156</th>\n",
       "      <th>Policy_Sales_Channel_157</th>\n",
       "      <th>Policy_Sales_Channel_158</th>\n",
       "      <th>Policy_Sales_Channel_159</th>\n",
       "      <th>Policy_Sales_Channel_160</th>\n",
       "      <th>Policy_Sales_Channel_163</th>\n",
       "      <th>Vehicle_Age_1-2 Year</th>\n",
       "      <th>Vehicle_Age_&lt; 1 Year</th>\n",
       "      <th>Vehicle_Age_&gt; 2 Years</th>\n",
       "    </tr>\n",
       "  </thead>\n",
       "  <tbody>\n",
       "    <tr>\n",
       "      <th>0</th>\n",
       "      <td>1</td>\n",
       "      <td>58</td>\n",
       "      <td>1</td>\n",
       "      <td>0</td>\n",
       "      <td>1</td>\n",
       "      <td>22811.0</td>\n",
       "      <td>29</td>\n",
       "      <td>0</td>\n",
       "      <td>0</td>\n",
       "      <td>0</td>\n",
       "      <td>...</td>\n",
       "      <td>0</td>\n",
       "      <td>0</td>\n",
       "      <td>0</td>\n",
       "      <td>0</td>\n",
       "      <td>0</td>\n",
       "      <td>0</td>\n",
       "      <td>0</td>\n",
       "      <td>1</td>\n",
       "      <td>0</td>\n",
       "      <td>0</td>\n",
       "    </tr>\n",
       "    <tr>\n",
       "      <th>1</th>\n",
       "      <td>1</td>\n",
       "      <td>21</td>\n",
       "      <td>1</td>\n",
       "      <td>0</td>\n",
       "      <td>1</td>\n",
       "      <td>33282.0</td>\n",
       "      <td>159</td>\n",
       "      <td>0</td>\n",
       "      <td>0</td>\n",
       "      <td>0</td>\n",
       "      <td>...</td>\n",
       "      <td>0</td>\n",
       "      <td>0</td>\n",
       "      <td>0</td>\n",
       "      <td>0</td>\n",
       "      <td>0</td>\n",
       "      <td>1</td>\n",
       "      <td>0</td>\n",
       "      <td>0</td>\n",
       "      <td>1</td>\n",
       "      <td>0</td>\n",
       "    </tr>\n",
       "    <tr>\n",
       "      <th>2</th>\n",
       "      <td>1</td>\n",
       "      <td>23</td>\n",
       "      <td>1</td>\n",
       "      <td>0</td>\n",
       "      <td>1</td>\n",
       "      <td>39853.0</td>\n",
       "      <td>213</td>\n",
       "      <td>0</td>\n",
       "      <td>0</td>\n",
       "      <td>0</td>\n",
       "      <td>...</td>\n",
       "      <td>0</td>\n",
       "      <td>0</td>\n",
       "      <td>0</td>\n",
       "      <td>0</td>\n",
       "      <td>0</td>\n",
       "      <td>0</td>\n",
       "      <td>0</td>\n",
       "      <td>0</td>\n",
       "      <td>1</td>\n",
       "      <td>0</td>\n",
       "    </tr>\n",
       "    <tr>\n",
       "      <th>3</th>\n",
       "      <td>1</td>\n",
       "      <td>20</td>\n",
       "      <td>1</td>\n",
       "      <td>0</td>\n",
       "      <td>0</td>\n",
       "      <td>29252.0</td>\n",
       "      <td>146</td>\n",
       "      <td>0</td>\n",
       "      <td>0</td>\n",
       "      <td>0</td>\n",
       "      <td>...</td>\n",
       "      <td>0</td>\n",
       "      <td>0</td>\n",
       "      <td>0</td>\n",
       "      <td>0</td>\n",
       "      <td>0</td>\n",
       "      <td>1</td>\n",
       "      <td>0</td>\n",
       "      <td>0</td>\n",
       "      <td>1</td>\n",
       "      <td>0</td>\n",
       "    </tr>\n",
       "    <tr>\n",
       "      <th>4</th>\n",
       "      <td>0</td>\n",
       "      <td>63</td>\n",
       "      <td>1</td>\n",
       "      <td>0</td>\n",
       "      <td>1</td>\n",
       "      <td>45202.0</td>\n",
       "      <td>196</td>\n",
       "      <td>0</td>\n",
       "      <td>0</td>\n",
       "      <td>0</td>\n",
       "      <td>...</td>\n",
       "      <td>0</td>\n",
       "      <td>0</td>\n",
       "      <td>0</td>\n",
       "      <td>0</td>\n",
       "      <td>0</td>\n",
       "      <td>0</td>\n",
       "      <td>0</td>\n",
       "      <td>1</td>\n",
       "      <td>0</td>\n",
       "      <td>0</td>\n",
       "    </tr>\n",
       "    <tr>\n",
       "      <th>...</th>\n",
       "      <td>...</td>\n",
       "      <td>...</td>\n",
       "      <td>...</td>\n",
       "      <td>...</td>\n",
       "      <td>...</td>\n",
       "      <td>...</td>\n",
       "      <td>...</td>\n",
       "      <td>...</td>\n",
       "      <td>...</td>\n",
       "      <td>...</td>\n",
       "      <td>...</td>\n",
       "      <td>...</td>\n",
       "      <td>...</td>\n",
       "      <td>...</td>\n",
       "      <td>...</td>\n",
       "      <td>...</td>\n",
       "      <td>...</td>\n",
       "      <td>...</td>\n",
       "      <td>...</td>\n",
       "      <td>...</td>\n",
       "      <td>...</td>\n",
       "    </tr>\n",
       "    <tr>\n",
       "      <th>57161</th>\n",
       "      <td>1</td>\n",
       "      <td>49</td>\n",
       "      <td>1</td>\n",
       "      <td>0</td>\n",
       "      <td>1</td>\n",
       "      <td>51404.0</td>\n",
       "      <td>212</td>\n",
       "      <td>0</td>\n",
       "      <td>0</td>\n",
       "      <td>0</td>\n",
       "      <td>...</td>\n",
       "      <td>0</td>\n",
       "      <td>0</td>\n",
       "      <td>0</td>\n",
       "      <td>0</td>\n",
       "      <td>0</td>\n",
       "      <td>0</td>\n",
       "      <td>0</td>\n",
       "      <td>1</td>\n",
       "      <td>0</td>\n",
       "      <td>0</td>\n",
       "    </tr>\n",
       "    <tr>\n",
       "      <th>57162</th>\n",
       "      <td>1</td>\n",
       "      <td>53</td>\n",
       "      <td>1</td>\n",
       "      <td>0</td>\n",
       "      <td>1</td>\n",
       "      <td>42057.0</td>\n",
       "      <td>207</td>\n",
       "      <td>0</td>\n",
       "      <td>0</td>\n",
       "      <td>0</td>\n",
       "      <td>...</td>\n",
       "      <td>0</td>\n",
       "      <td>0</td>\n",
       "      <td>0</td>\n",
       "      <td>0</td>\n",
       "      <td>0</td>\n",
       "      <td>0</td>\n",
       "      <td>0</td>\n",
       "      <td>1</td>\n",
       "      <td>0</td>\n",
       "      <td>0</td>\n",
       "    </tr>\n",
       "    <tr>\n",
       "      <th>57163</th>\n",
       "      <td>0</td>\n",
       "      <td>61</td>\n",
       "      <td>1</td>\n",
       "      <td>0</td>\n",
       "      <td>0</td>\n",
       "      <td>37290.0</td>\n",
       "      <td>112</td>\n",
       "      <td>1</td>\n",
       "      <td>0</td>\n",
       "      <td>0</td>\n",
       "      <td>...</td>\n",
       "      <td>0</td>\n",
       "      <td>0</td>\n",
       "      <td>0</td>\n",
       "      <td>0</td>\n",
       "      <td>0</td>\n",
       "      <td>0</td>\n",
       "      <td>0</td>\n",
       "      <td>1</td>\n",
       "      <td>0</td>\n",
       "      <td>0</td>\n",
       "    </tr>\n",
       "    <tr>\n",
       "      <th>57164</th>\n",
       "      <td>0</td>\n",
       "      <td>30</td>\n",
       "      <td>1</td>\n",
       "      <td>1</td>\n",
       "      <td>0</td>\n",
       "      <td>24366.0</td>\n",
       "      <td>196</td>\n",
       "      <td>0</td>\n",
       "      <td>0</td>\n",
       "      <td>0</td>\n",
       "      <td>...</td>\n",
       "      <td>0</td>\n",
       "      <td>0</td>\n",
       "      <td>0</td>\n",
       "      <td>0</td>\n",
       "      <td>0</td>\n",
       "      <td>0</td>\n",
       "      <td>0</td>\n",
       "      <td>0</td>\n",
       "      <td>1</td>\n",
       "      <td>0</td>\n",
       "    </tr>\n",
       "    <tr>\n",
       "      <th>57165</th>\n",
       "      <td>0</td>\n",
       "      <td>28</td>\n",
       "      <td>1</td>\n",
       "      <td>0</td>\n",
       "      <td>1</td>\n",
       "      <td>38804.0</td>\n",
       "      <td>267</td>\n",
       "      <td>0</td>\n",
       "      <td>0</td>\n",
       "      <td>0</td>\n",
       "      <td>...</td>\n",
       "      <td>0</td>\n",
       "      <td>0</td>\n",
       "      <td>0</td>\n",
       "      <td>0</td>\n",
       "      <td>0</td>\n",
       "      <td>0</td>\n",
       "      <td>0</td>\n",
       "      <td>0</td>\n",
       "      <td>1</td>\n",
       "      <td>0</td>\n",
       "    </tr>\n",
       "  </tbody>\n",
       "</table>\n",
       "<p>57166 rows × 219 columns</p>\n",
       "</div>"
      ],
      "text/plain": [
       "       Gender  Age  Driving_License  Previously_Insured  Vehicle_Damage  \\\n",
       "0           1   58                1                   0               1   \n",
       "1           1   21                1                   0               1   \n",
       "2           1   23                1                   0               1   \n",
       "3           1   20                1                   0               0   \n",
       "4           0   63                1                   0               1   \n",
       "...       ...  ...              ...                 ...             ...   \n",
       "57161       1   49                1                   0               1   \n",
       "57162       1   53                1                   0               1   \n",
       "57163       0   61                1                   0               0   \n",
       "57164       0   30                1                   1               0   \n",
       "57165       0   28                1                   0               1   \n",
       "\n",
       "       Annual_Premium  Vintage  Response  Region_Code_0  Region_Code_1  ...  \\\n",
       "0             22811.0       29         0              0              0  ...   \n",
       "1             33282.0      159         0              0              0  ...   \n",
       "2             39853.0      213         0              0              0  ...   \n",
       "3             29252.0      146         0              0              0  ...   \n",
       "4             45202.0      196         0              0              0  ...   \n",
       "...               ...      ...       ...            ...            ...  ...   \n",
       "57161         51404.0      212         0              0              0  ...   \n",
       "57162         42057.0      207         0              0              0  ...   \n",
       "57163         37290.0      112         1              0              0  ...   \n",
       "57164         24366.0      196         0              0              0  ...   \n",
       "57165         38804.0      267         0              0              0  ...   \n",
       "\n",
       "       Policy_Sales_Channel_155  Policy_Sales_Channel_156  \\\n",
       "0                             0                         0   \n",
       "1                             0                         0   \n",
       "2                             0                         0   \n",
       "3                             0                         0   \n",
       "4                             0                         0   \n",
       "...                         ...                       ...   \n",
       "57161                         0                         0   \n",
       "57162                         0                         0   \n",
       "57163                         0                         0   \n",
       "57164                         0                         0   \n",
       "57165                         0                         0   \n",
       "\n",
       "       Policy_Sales_Channel_157  Policy_Sales_Channel_158  \\\n",
       "0                             0                         0   \n",
       "1                             0                         0   \n",
       "2                             0                         0   \n",
       "3                             0                         0   \n",
       "4                             0                         0   \n",
       "...                         ...                       ...   \n",
       "57161                         0                         0   \n",
       "57162                         0                         0   \n",
       "57163                         0                         0   \n",
       "57164                         0                         0   \n",
       "57165                         0                         0   \n",
       "\n",
       "       Policy_Sales_Channel_159  Policy_Sales_Channel_160  \\\n",
       "0                             0                         0   \n",
       "1                             0                         1   \n",
       "2                             0                         0   \n",
       "3                             0                         1   \n",
       "4                             0                         0   \n",
       "...                         ...                       ...   \n",
       "57161                         0                         0   \n",
       "57162                         0                         0   \n",
       "57163                         0                         0   \n",
       "57164                         0                         0   \n",
       "57165                         0                         0   \n",
       "\n",
       "       Policy_Sales_Channel_163  Vehicle_Age_1-2 Year  Vehicle_Age_< 1 Year  \\\n",
       "0                             0                     1                     0   \n",
       "1                             0                     0                     1   \n",
       "2                             0                     0                     1   \n",
       "3                             0                     0                     1   \n",
       "4                             0                     1                     0   \n",
       "...                         ...                   ...                   ...   \n",
       "57161                         0                     1                     0   \n",
       "57162                         0                     1                     0   \n",
       "57163                         0                     1                     0   \n",
       "57164                         0                     0                     1   \n",
       "57165                         0                     0                     1   \n",
       "\n",
       "       Vehicle_Age_> 2 Years  \n",
       "0                          0  \n",
       "1                          0  \n",
       "2                          0  \n",
       "3                          0  \n",
       "4                          0  \n",
       "...                      ...  \n",
       "57161                      0  \n",
       "57162                      0  \n",
       "57163                      0  \n",
       "57164                      0  \n",
       "57165                      0  \n",
       "\n",
       "[57166 rows x 219 columns]"
      ]
     },
     "execution_count": 89,
     "metadata": {},
     "output_type": "execute_result"
    }
   ],
   "source": [
    "df_small = df_small.iloc[:,2:]\n",
    "df_small"
   ]
  },
  {
   "cell_type": "code",
   "execution_count": 90,
   "metadata": {},
   "outputs": [
    {
     "data": {
      "text/plain": [
       "0    50146\n",
       "1     7020\n",
       "Name: Response, dtype: int64"
      ]
     },
     "execution_count": 90,
     "metadata": {},
     "output_type": "execute_result"
    }
   ],
   "source": [
    "df_small['Response'].value_counts()"
   ]
  },
  {
   "cell_type": "code",
   "execution_count": 91,
   "metadata": {},
   "outputs": [],
   "source": [
    "X = df_small.drop('Response', axis = 1)\n",
    "y = df_small['Response']"
   ]
  },
  {
   "cell_type": "code",
   "execution_count": 92,
   "metadata": {},
   "outputs": [],
   "source": [
    "X_train, X_test, y_train, y_test = train_test_split(X, y, random_state = 12)"
   ]
  },
  {
   "cell_type": "code",
   "execution_count": 93,
   "metadata": {},
   "outputs": [
    {
     "name": "stdout",
     "output_type": "stream",
     "text": [
      "(42874, 218)\n",
      "(42874,)\n",
      "(14292, 218)\n",
      "(14292,)\n"
     ]
    }
   ],
   "source": [
    "print(X_train.shape)\n",
    "print(y_train.shape)\n",
    "print(X_test.shape)\n",
    "print(y_test.shape)"
   ]
  },
  {
   "cell_type": "code",
   "execution_count": 94,
   "metadata": {},
   "outputs": [
    {
     "name": "stdout",
     "output_type": "stream",
     "text": [
      "With our initial Logistic regression model we are able to get a test score of 0.8793730758466275\n"
     ]
    }
   ],
   "source": [
    "l_reg_small = LogisticRegression(C = 0.005)\n",
    "l_reg_small.fit(X_train, y_train)\n",
    "\n",
    "print('With our initial Logistic regression model we are able to get a test score of {}'.format(l_reg_small.score(X_test, y_test)))"
   ]
  },
  {
   "cell_type": "code",
   "execution_count": 95,
   "metadata": {},
   "outputs": [],
   "source": [
    "c_list = [0.0000001, 0.000001, 0.0002, 0.005, 0.7, 100, 10000]\n",
    "results_small = logistic_c_trials(c_list, X_train, X_test, y_train, y_test)"
   ]
  },
  {
   "cell_type": "code",
   "execution_count": 96,
   "metadata": {},
   "outputs": [
    {
     "data": {
      "text/plain": [
       "{'Train Score': [0.8762653356346504,\n",
       "  0.8762653356346504,\n",
       "  0.8762653356346504,\n",
       "  0.875752204133041,\n",
       "  0.8749591827214629,\n",
       "  0.874982506880627,\n",
       "  0.874982506880627],\n",
       " 'Test Score': [0.8800027987685418,\n",
       "  0.8800027987685418,\n",
       "  0.8800027987685418,\n",
       "  0.8793730758466275,\n",
       "  0.8783935068569829,\n",
       "  0.8783235376434368,\n",
       "  0.8783235376434368],\n",
       " 'C': [1e-07, 1e-06, 0.0002, 0.005, 0.7, 100, 10000]}"
      ]
     },
     "execution_count": 96,
     "metadata": {},
     "output_type": "execute_result"
    }
   ],
   "source": [
    "results_small"
   ]
  },
  {
   "cell_type": "code",
   "execution_count": 97,
   "metadata": {},
   "outputs": [],
   "source": [
    "results_small_balanced = logistic_c_trials_balanced(c_list, X_train, X_test, y_train, y_test)"
   ]
  },
  {
   "cell_type": "code",
   "execution_count": 98,
   "metadata": {},
   "outputs": [
    {
     "data": {
      "text/plain": [
       "{'Train Score': [0.43861081308018846,\n",
       "  0.48462937911088305,\n",
       "  0.4828800671735784,\n",
       "  0.7058357046228484,\n",
       "  0.7089144936325046,\n",
       "  0.7089378177916686,\n",
       "  0.7089378177916686],\n",
       " 'Test Score': [0.427791771620487,\n",
       "  0.47495102155051777,\n",
       "  0.4725020990764064,\n",
       "  0.7060593338930871,\n",
       "  0.7109571788413098,\n",
       "  0.7108872096277637,\n",
       "  0.7108872096277637],\n",
       " 'C': [1e-07, 1e-06, 0.0002, 0.005, 0.7, 100, 10000]}"
      ]
     },
     "execution_count": 98,
     "metadata": {},
     "output_type": "execute_result"
    }
   ],
   "source": [
    "results_small_balanced"
   ]
  },
  {
   "cell_type": "code",
   "execution_count": 100,
   "metadata": {},
   "outputs": [
    {
     "data": {
      "image/png": "[encoded data removed]",
      "text/plain": [
       "<Figure size 1020x1020 with 2 Axes>"
      ]
     },
     "metadata": {
      "needs_background": "light"
     },
     "output_type": "display_data"
    }
   ],
   "source": [
    "fig, ax = plt.subplots(nrows = 2, ncols=1, figsize = (6,6), dpi = 170)\n",
    "ax[0].plot(range(len(results['C'])), results['Test Score'], label = 'Test')\n",
    "ax[0].plot(range(len(results['C'])), results['Train Score'], label = 'Train')\n",
    "ax[0].set_xticks(range(len(c_list)))\n",
    "ax[0].set_xticklabels(c_list)\n",
    "ax[0].legend()\n",
    "ax[0].set(xlabel = 'C', ylabel = 'Score', title = 'Score per C value, class_weight = None')\n",
    "\n",
    "ax[1].plot(range(len(results_balanced['C'])), results_balanced['Test Score'], label = 'Test', alpha = 0.8)\n",
    "ax[1].plot(range(len(results_balanced['C'])), results_balanced['Train Score'], label = 'Train', alpha = 0.8)\n",
    "ax[1].set_xticks(range(len(c_list)))\n",
    "ax[1].set_xticklabels(c_list)\n",
    "ax[1].legend()\n",
    "ax[1].set(xlabel = 'C', ylabel = 'Score', title = 'Score per C value, class_weight = balanced')\n",
    "\n",
    "plt.tight_layout()\n",
    "plt.show()"
   ]
  },
  {
   "cell_type": "code",
   "execution_count": 101,
   "metadata": {},
   "outputs": [
    {
     "data": {
      "text/plain": [
       "'The C value that gives the highest test score is 0.0000001 and the score is 88.00027987685418%'"
      ]
     },
     "execution_count": 101,
     "metadata": {},
     "output_type": "execute_result"
    }
   ],
   "source": [
    "find_best_c(c_list, results_small['Test Score'])"
   ]
  },
  {
   "cell_type": "code",
   "execution_count": 102,
   "metadata": {},
   "outputs": [
    {
     "data": {
      "text/plain": [
       "'The C value that gives the highest test score is 0.7000000 and the score is 71.09571788413098%'"
      ]
     },
     "execution_count": 102,
     "metadata": {},
     "output_type": "execute_result"
    }
   ],
   "source": [
    "find_best_c(c_list, results_small_balanced['Test Score'])"
   ]
  },
  {
   "cell_type": "markdown",
   "metadata": {},
   "source": [
    "### Evaluating the models"
   ]
  },
  {
   "cell_type": "markdown",
   "metadata": {},
   "source": [
    "#### Model with class_weight = 'None'"
   ]
  },
  {
   "cell_type": "code",
   "execution_count": 104,
   "metadata": {},
   "outputs": [
    {
     "name": "stdout",
     "output_type": "stream",
     "text": [
      "With our final Logistic regression model we are able to get a test score of 88.00027987685418%\n"
     ]
    }
   ],
   "source": [
    "l_reg_small = LogisticRegression(C = 0.0000001)\n",
    "l_reg_small.fit(X_train, y_train)\n",
    "\n",
    "print('With our final Logistic regression model we are able to get a test score of {:.14%}'.format(l_reg_small.score(X_test, y_test)))"
   ]
  },
  {
   "cell_type": "code",
   "execution_count": 105,
   "metadata": {},
   "outputs": [
    {
     "data": {
      "text/plain": [
       "[('Vehicle_Damage', 1.000137414592031),\n",
       " ('Region_Code_28', 1.0000570552298238),\n",
       " ('Policy_Sales_Channel_26', 1.0000380415095884),\n",
       " ('Vehicle_Age_> 2 Years', 1.0000236513189618),\n",
       " ('Policy_Sales_Channel_124', 1.0000227090045501),\n",
       " ('Vehicle_Age_1-2 Year', 1.0000192653072517),\n",
       " ('Policy_Sales_Channel_122', 1.0000042665744813),\n",
       " ('Policy_Sales_Channel_154', 1.000003863393709),\n",
       " ('Policy_Sales_Channel_163', 1.000002397556542),\n",
       " ('Policy_Sales_Channel_25', 1.0000019887664486)]"
      ]
     },
     "execution_count": 105,
     "metadata": {},
     "output_type": "execute_result"
    }
   ],
   "source": [
    "sorted(list(zip(X.columns, np.exp((l_reg_small.coef_[0])))), key=lambda x: x[1], reverse = True)[:10]"
   ]
  },
  {
   "cell_type": "code",
   "execution_count": 106,
   "metadata": {},
   "outputs": [
    {
     "data": {
      "text/plain": [
       "[('Region_Code_8', 0.9999852428500048),\n",
       " ('Annual_Premium', 0.9999706746214857),\n",
       " ('Policy_Sales_Channel_160', 0.999966439846656),\n",
       " ('Gender', 0.9999519594177376),\n",
       " ('Driving_License', 0.9998622171135632),\n",
       " ('Policy_Sales_Channel_152', 0.9998391275723814),\n",
       " ('Vehicle_Age_< 1 Year', 0.999818898770363),\n",
       " ('Previously_Insured', 0.9997410966874424),\n",
       " ('Age', 0.996929496569325),\n",
       " ('Vintage', 0.9949799112500729)]"
      ]
     },
     "execution_count": 106,
     "metadata": {},
     "output_type": "execute_result"
    }
   ],
   "source": [
    "sorted(list(zip(X.columns, np.exp((l_reg_small.coef_[0])))), key=lambda x: x[1], reverse = True)[-10:]"
   ]
  },
  {
   "cell_type": "code",
   "execution_count": 107,
   "metadata": {},
   "outputs": [
    {
     "data": {
      "text/plain": [
       "array([[12577,     0],\n",
       "       [ 1715,     0]])"
      ]
     },
     "execution_count": 107,
     "metadata": {},
     "output_type": "execute_result"
    }
   ],
   "source": [
    "confusion_matrix(y_test, l_reg_small.predict(X_test))"
   ]
  },
  {
   "cell_type": "code",
   "execution_count": 108,
   "metadata": {},
   "outputs": [
    {
     "name": "stdout",
     "output_type": "stream",
     "text": [
      "                precision    recall  f1-score   support\n",
      "\n",
      "Not interested       0.88      1.00      0.94     12577\n",
      "    Interested       0.00      0.00      0.00      1715\n",
      "\n",
      "      accuracy                           0.88     14292\n",
      "     macro avg       0.44      0.50      0.47     14292\n",
      "  weighted avg       0.77      0.88      0.82     14292\n",
      "\n"
     ]
    },
    {
     "name": "stderr",
     "output_type": "stream",
     "text": [
      "/opt/anaconda3/lib/python3.8/site-packages/sklearn/metrics/_classification.py:1221: UndefinedMetricWarning: Precision and F-score are ill-defined and being set to 0.0 in labels with no predicted samples. Use `zero_division` parameter to control this behavior.\n",
      "  _warn_prf(average, modifier, msg_start, len(result))\n"
     ]
    }
   ],
   "source": [
    "print(classification_report(y_test, l_reg_small.predict(X_test), target_names = ['Not interested', 'Interested']))"
   ]
  },
  {
   "cell_type": "code",
   "execution_count": 109,
   "metadata": {},
   "outputs": [
    {
     "name": "stderr",
     "output_type": "stream",
     "text": [
      "/opt/anaconda3/lib/python3.8/site-packages/sklearn/metrics/_classification.py:1221: UndefinedMetricWarning: Precision and F-score are ill-defined and being set to 0.0 in labels with no predicted samples. Use `zero_division` parameter to control this behavior.\n",
      "  _warn_prf(average, modifier, msg_start, len(result))\n"
     ]
    },
    {
     "data": {
      "image/png": "[encoded data removed]",
      "text/plain": [
       "<Figure size 850x680 with 2 Axes>"
      ]
     },
     "metadata": {
      "needs_background": "light"
     },
     "output_type": "display_data"
    }
   ],
   "source": [
    "plot_clf_report(classification_report(y_test, l_reg_small.predict(X_test), target_names = ['Not interested', 'Interested'], output_dict=True)\\\n",
    "    , title = 'Clf report, class_weight = None')"
   ]
  },
  {
   "cell_type": "markdown",
   "metadata": {},
   "source": [
    "#### Model with class_weight = 'balanced'"
   ]
  },
  {
   "cell_type": "code",
   "execution_count": 110,
   "metadata": {},
   "outputs": [
    {
     "name": "stdout",
     "output_type": "stream",
     "text": [
      "With our final balanced Logistic regression model we are able to get a test score of 71.09571788413098%\n"
     ]
    }
   ],
   "source": [
    "l_reg_small_balanced = LogisticRegression(C = 0.7000000, class_weight = 'balanced')\n",
    "l_reg_small_balanced.fit(X_train, y_train)\n",
    "\n",
    "print('With our final balanced Logistic regression model we are able to get a test score of {:.14%}'.format(l_reg_small_balanced.score(X_test, y_test)))"
   ]
  },
  {
   "cell_type": "code",
   "execution_count": 111,
   "metadata": {},
   "outputs": [
    {
     "data": {
      "text/plain": [
       "[('Vehicle_Damage', 4.433923562311534),\n",
       " ('Vehicle_Age_1-2 Year', 1.6223554161443465),\n",
       " ('Region_Code_28', 1.54902106765487),\n",
       " ('Policy_Sales_Channel_26', 1.4039148159233752),\n",
       " ('Policy_Sales_Channel_124', 1.3441510925164706),\n",
       " ('Vehicle_Age_> 2 Years', 1.1974342023467897),\n",
       " ('Policy_Sales_Channel_156', 1.061301718316595),\n",
       " ('Gender', 1.053498438293189),\n",
       " ('Policy_Sales_Channel_157', 1.0520766092001954),\n",
       " ('Policy_Sales_Channel_154', 1.0504737095699708)]"
      ]
     },
     "execution_count": 111,
     "metadata": {},
     "output_type": "execute_result"
    }
   ],
   "source": [
    "sorted(list(zip(X.columns, np.exp((l_reg_small_balanced.coef_[0])))), key=lambda x: x[1], reverse = True)[:10]"
   ]
  },
  {
   "cell_type": "code",
   "execution_count": 112,
   "metadata": {},
   "outputs": [
    {
     "data": {
      "text/plain": [
       "[('Region_Code_6', 0.9681772320799232),\n",
       " ('Region_Code_50', 0.9505595658536209),\n",
       " ('Region_Code_30', 0.9485656754986238),\n",
       " ('Region_Code_15', 0.9457961291400482),\n",
       " ('Region_Code_8', 0.9108653379667677),\n",
       " ('Policy_Sales_Channel_160', 0.849221473732867),\n",
       " ('Driving_License', 0.7884416743048416),\n",
       " ('Policy_Sales_Channel_152', 0.40744342076176404),\n",
       " ('Vehicle_Age_< 1 Year', 0.4041399584829147),\n",
       " ('Previously_Insured', 0.19133817491300023)]"
      ]
     },
     "execution_count": 112,
     "metadata": {},
     "output_type": "execute_result"
    }
   ],
   "source": [
    "sorted(list(zip(X.columns, np.exp((l_reg_small_balanced.coef_[0])))), key=lambda x: x[1], reverse = True)[-10:]"
   ]
  },
  {
   "cell_type": "code",
   "execution_count": 113,
   "metadata": {},
   "outputs": [
    {
     "data": {
      "text/plain": [
       "array([[8663, 3914],\n",
       "       [ 217, 1498]])"
      ]
     },
     "execution_count": 113,
     "metadata": {},
     "output_type": "execute_result"
    }
   ],
   "source": [
    "confusion_matrix(y_test, l_reg_small_balanced.predict(X_test))"
   ]
  },
  {
   "cell_type": "code",
   "execution_count": 114,
   "metadata": {},
   "outputs": [
    {
     "name": "stdout",
     "output_type": "stream",
     "text": [
      "                precision    recall  f1-score   support\n",
      "\n",
      "Not interested       0.98      0.69      0.81     12577\n",
      "    Interested       0.28      0.87      0.42      1715\n",
      "\n",
      "      accuracy                           0.71     14292\n",
      "     macro avg       0.63      0.78      0.61     14292\n",
      "  weighted avg       0.89      0.71      0.76     14292\n",
      "\n"
     ]
    }
   ],
   "source": [
    "print(classification_report(y_test, l_reg_small_balanced.predict(X_test), target_names=['Not interested', 'Interested']))"
   ]
  },
  {
   "cell_type": "code",
   "execution_count": 117,
   "metadata": {},
   "outputs": [
    {
     "data": {
      "image/png": "[encoded data removed]",
      "text/plain": [
       "<Figure size 850x680 with 2 Axes>"
      ]
     },
     "metadata": {
      "needs_background": "light"
     },
     "output_type": "display_data"
    }
   ],
   "source": [
    "plot_clf_report(classification_report(y_test, l_reg_small_balanced.predict(X_test), target_names=['Not interested', 'Interested'], output_dict=True), \\\n",
    "    title = 'Clf report, class_weight = balanced')"
   ]
  },
  {
   "cell_type": "markdown",
   "metadata": {},
   "source": [
    "### Logistic regression model on manually balanced small size dataset"
   ]
  },
  {
   "cell_type": "code",
   "execution_count": 138,
   "metadata": {},
   "outputs": [
    {
     "data": {
      "text/html": [
       "<div>\n",
       "<style scoped>\n",
       "    .dataframe tbody tr th:only-of-type {\n",
       "        vertical-align: middle;\n",
       "    }\n",
       "\n",
       "    .dataframe tbody tr th {\n",
       "        vertical-align: top;\n",
       "    }\n",
       "\n",
       "    .dataframe thead th {\n",
       "        text-align: right;\n",
       "    }\n",
       "</style>\n",
       "<table border=\"1\" class=\"dataframe\">\n",
       "  <thead>\n",
       "    <tr style=\"text-align: right;\">\n",
       "      <th></th>\n",
       "      <th>Unnamed: 0</th>\n",
       "      <th>id</th>\n",
       "      <th>Gender</th>\n",
       "      <th>Age</th>\n",
       "      <th>Driving_License</th>\n",
       "      <th>Previously_Insured</th>\n",
       "      <th>Vehicle_Damage</th>\n",
       "      <th>Annual_Premium</th>\n",
       "      <th>Vintage</th>\n",
       "      <th>Response</th>\n",
       "      <th>...</th>\n",
       "      <th>Policy_Sales_Channel_155</th>\n",
       "      <th>Policy_Sales_Channel_156</th>\n",
       "      <th>Policy_Sales_Channel_157</th>\n",
       "      <th>Policy_Sales_Channel_158</th>\n",
       "      <th>Policy_Sales_Channel_159</th>\n",
       "      <th>Policy_Sales_Channel_160</th>\n",
       "      <th>Policy_Sales_Channel_163</th>\n",
       "      <th>Vehicle_Age_1-2 Year</th>\n",
       "      <th>Vehicle_Age_&lt; 1 Year</th>\n",
       "      <th>Vehicle_Age_&gt; 2 Years</th>\n",
       "    </tr>\n",
       "  </thead>\n",
       "  <tbody>\n",
       "    <tr>\n",
       "      <th>0</th>\n",
       "      <td>194037</td>\n",
       "      <td>194038</td>\n",
       "      <td>1</td>\n",
       "      <td>43</td>\n",
       "      <td>1</td>\n",
       "      <td>0</td>\n",
       "      <td>1</td>\n",
       "      <td>2630.0</td>\n",
       "      <td>46</td>\n",
       "      <td>1</td>\n",
       "      <td>...</td>\n",
       "      <td>0</td>\n",
       "      <td>0</td>\n",
       "      <td>0</td>\n",
       "      <td>0</td>\n",
       "      <td>0</td>\n",
       "      <td>0</td>\n",
       "      <td>0</td>\n",
       "      <td>1</td>\n",
       "      <td>0</td>\n",
       "      <td>0</td>\n",
       "    </tr>\n",
       "    <tr>\n",
       "      <th>1</th>\n",
       "      <td>166096</td>\n",
       "      <td>166097</td>\n",
       "      <td>1</td>\n",
       "      <td>28</td>\n",
       "      <td>1</td>\n",
       "      <td>0</td>\n",
       "      <td>1</td>\n",
       "      <td>2630.0</td>\n",
       "      <td>281</td>\n",
       "      <td>1</td>\n",
       "      <td>...</td>\n",
       "      <td>0</td>\n",
       "      <td>0</td>\n",
       "      <td>1</td>\n",
       "      <td>0</td>\n",
       "      <td>0</td>\n",
       "      <td>0</td>\n",
       "      <td>0</td>\n",
       "      <td>1</td>\n",
       "      <td>0</td>\n",
       "      <td>0</td>\n",
       "    </tr>\n",
       "    <tr>\n",
       "      <th>2</th>\n",
       "      <td>228045</td>\n",
       "      <td>228046</td>\n",
       "      <td>0</td>\n",
       "      <td>34</td>\n",
       "      <td>1</td>\n",
       "      <td>0</td>\n",
       "      <td>1</td>\n",
       "      <td>50812.0</td>\n",
       "      <td>145</td>\n",
       "      <td>1</td>\n",
       "      <td>...</td>\n",
       "      <td>0</td>\n",
       "      <td>0</td>\n",
       "      <td>0</td>\n",
       "      <td>0</td>\n",
       "      <td>0</td>\n",
       "      <td>0</td>\n",
       "      <td>0</td>\n",
       "      <td>1</td>\n",
       "      <td>0</td>\n",
       "      <td>0</td>\n",
       "    </tr>\n",
       "    <tr>\n",
       "      <th>3</th>\n",
       "      <td>281334</td>\n",
       "      <td>281335</td>\n",
       "      <td>1</td>\n",
       "      <td>43</td>\n",
       "      <td>1</td>\n",
       "      <td>0</td>\n",
       "      <td>1</td>\n",
       "      <td>39089.0</td>\n",
       "      <td>21</td>\n",
       "      <td>1</td>\n",
       "      <td>...</td>\n",
       "      <td>0</td>\n",
       "      <td>0</td>\n",
       "      <td>0</td>\n",
       "      <td>0</td>\n",
       "      <td>0</td>\n",
       "      <td>0</td>\n",
       "      <td>0</td>\n",
       "      <td>1</td>\n",
       "      <td>0</td>\n",
       "      <td>0</td>\n",
       "    </tr>\n",
       "    <tr>\n",
       "      <th>4</th>\n",
       "      <td>102730</td>\n",
       "      <td>102731</td>\n",
       "      <td>1</td>\n",
       "      <td>44</td>\n",
       "      <td>1</td>\n",
       "      <td>0</td>\n",
       "      <td>1</td>\n",
       "      <td>34162.0</td>\n",
       "      <td>115</td>\n",
       "      <td>1</td>\n",
       "      <td>...</td>\n",
       "      <td>0</td>\n",
       "      <td>0</td>\n",
       "      <td>0</td>\n",
       "      <td>0</td>\n",
       "      <td>0</td>\n",
       "      <td>0</td>\n",
       "      <td>0</td>\n",
       "      <td>1</td>\n",
       "      <td>0</td>\n",
       "      <td>0</td>\n",
       "    </tr>\n",
       "    <tr>\n",
       "      <th>...</th>\n",
       "      <td>...</td>\n",
       "      <td>...</td>\n",
       "      <td>...</td>\n",
       "      <td>...</td>\n",
       "      <td>...</td>\n",
       "      <td>...</td>\n",
       "      <td>...</td>\n",
       "      <td>...</td>\n",
       "      <td>...</td>\n",
       "      <td>...</td>\n",
       "      <td>...</td>\n",
       "      <td>...</td>\n",
       "      <td>...</td>\n",
       "      <td>...</td>\n",
       "      <td>...</td>\n",
       "      <td>...</td>\n",
       "      <td>...</td>\n",
       "      <td>...</td>\n",
       "      <td>...</td>\n",
       "      <td>...</td>\n",
       "      <td>...</td>\n",
       "    </tr>\n",
       "    <tr>\n",
       "      <th>57161</th>\n",
       "      <td>121826</td>\n",
       "      <td>121827</td>\n",
       "      <td>0</td>\n",
       "      <td>45</td>\n",
       "      <td>1</td>\n",
       "      <td>1</td>\n",
       "      <td>0</td>\n",
       "      <td>30700.0</td>\n",
       "      <td>223</td>\n",
       "      <td>0</td>\n",
       "      <td>...</td>\n",
       "      <td>0</td>\n",
       "      <td>0</td>\n",
       "      <td>0</td>\n",
       "      <td>0</td>\n",
       "      <td>0</td>\n",
       "      <td>0</td>\n",
       "      <td>0</td>\n",
       "      <td>1</td>\n",
       "      <td>0</td>\n",
       "      <td>0</td>\n",
       "    </tr>\n",
       "    <tr>\n",
       "      <th>57162</th>\n",
       "      <td>95522</td>\n",
       "      <td>95523</td>\n",
       "      <td>0</td>\n",
       "      <td>24</td>\n",
       "      <td>1</td>\n",
       "      <td>1</td>\n",
       "      <td>0</td>\n",
       "      <td>38563.0</td>\n",
       "      <td>108</td>\n",
       "      <td>0</td>\n",
       "      <td>...</td>\n",
       "      <td>0</td>\n",
       "      <td>0</td>\n",
       "      <td>0</td>\n",
       "      <td>0</td>\n",
       "      <td>0</td>\n",
       "      <td>0</td>\n",
       "      <td>0</td>\n",
       "      <td>0</td>\n",
       "      <td>1</td>\n",
       "      <td>0</td>\n",
       "    </tr>\n",
       "    <tr>\n",
       "      <th>57163</th>\n",
       "      <td>380876</td>\n",
       "      <td>380877</td>\n",
       "      <td>1</td>\n",
       "      <td>20</td>\n",
       "      <td>1</td>\n",
       "      <td>1</td>\n",
       "      <td>0</td>\n",
       "      <td>2630.0</td>\n",
       "      <td>99</td>\n",
       "      <td>0</td>\n",
       "      <td>...</td>\n",
       "      <td>0</td>\n",
       "      <td>0</td>\n",
       "      <td>0</td>\n",
       "      <td>0</td>\n",
       "      <td>0</td>\n",
       "      <td>1</td>\n",
       "      <td>0</td>\n",
       "      <td>0</td>\n",
       "      <td>1</td>\n",
       "      <td>0</td>\n",
       "    </tr>\n",
       "    <tr>\n",
       "      <th>57164</th>\n",
       "      <td>68994</td>\n",
       "      <td>68995</td>\n",
       "      <td>0</td>\n",
       "      <td>22</td>\n",
       "      <td>1</td>\n",
       "      <td>1</td>\n",
       "      <td>0</td>\n",
       "      <td>31883.0</td>\n",
       "      <td>264</td>\n",
       "      <td>0</td>\n",
       "      <td>...</td>\n",
       "      <td>0</td>\n",
       "      <td>0</td>\n",
       "      <td>0</td>\n",
       "      <td>0</td>\n",
       "      <td>0</td>\n",
       "      <td>0</td>\n",
       "      <td>0</td>\n",
       "      <td>0</td>\n",
       "      <td>1</td>\n",
       "      <td>0</td>\n",
       "    </tr>\n",
       "    <tr>\n",
       "      <th>57165</th>\n",
       "      <td>237625</td>\n",
       "      <td>237626</td>\n",
       "      <td>1</td>\n",
       "      <td>23</td>\n",
       "      <td>1</td>\n",
       "      <td>0</td>\n",
       "      <td>1</td>\n",
       "      <td>2630.0</td>\n",
       "      <td>268</td>\n",
       "      <td>0</td>\n",
       "      <td>...</td>\n",
       "      <td>0</td>\n",
       "      <td>0</td>\n",
       "      <td>0</td>\n",
       "      <td>0</td>\n",
       "      <td>0</td>\n",
       "      <td>1</td>\n",
       "      <td>0</td>\n",
       "      <td>0</td>\n",
       "      <td>1</td>\n",
       "      <td>0</td>\n",
       "    </tr>\n",
       "  </tbody>\n",
       "</table>\n",
       "<p>57166 rows × 221 columns</p>\n",
       "</div>"
      ],
      "text/plain": [
       "       Unnamed: 0      id  Gender  Age  Driving_License  Previously_Insured  \\\n",
       "0          194037  194038       1   43                1                   0   \n",
       "1          166096  166097       1   28                1                   0   \n",
       "2          228045  228046       0   34                1                   0   \n",
       "3          281334  281335       1   43                1                   0   \n",
       "4          102730  102731       1   44                1                   0   \n",
       "...           ...     ...     ...  ...              ...                 ...   \n",
       "57161      121826  121827       0   45                1                   1   \n",
       "57162       95522   95523       0   24                1                   1   \n",
       "57163      380876  380877       1   20                1                   1   \n",
       "57164       68994   68995       0   22                1                   1   \n",
       "57165      237625  237626       1   23                1                   0   \n",
       "\n",
       "       Vehicle_Damage  Annual_Premium  Vintage  Response  ...  \\\n",
       "0                   1          2630.0       46         1  ...   \n",
       "1                   1          2630.0      281         1  ...   \n",
       "2                   1         50812.0      145         1  ...   \n",
       "3                   1         39089.0       21         1  ...   \n",
       "4                   1         34162.0      115         1  ...   \n",
       "...               ...             ...      ...       ...  ...   \n",
       "57161               0         30700.0      223         0  ...   \n",
       "57162               0         38563.0      108         0  ...   \n",
       "57163               0          2630.0       99         0  ...   \n",
       "57164               0         31883.0      264         0  ...   \n",
       "57165               1          2630.0      268         0  ...   \n",
       "\n",
       "       Policy_Sales_Channel_155  Policy_Sales_Channel_156  \\\n",
       "0                             0                         0   \n",
       "1                             0                         0   \n",
       "2                             0                         0   \n",
       "3                             0                         0   \n",
       "4                             0                         0   \n",
       "...                         ...                       ...   \n",
       "57161                         0                         0   \n",
       "57162                         0                         0   \n",
       "57163                         0                         0   \n",
       "57164                         0                         0   \n",
       "57165                         0                         0   \n",
       "\n",
       "       Policy_Sales_Channel_157  Policy_Sales_Channel_158  \\\n",
       "0                             0                         0   \n",
       "1                             1                         0   \n",
       "2                             0                         0   \n",
       "3                             0                         0   \n",
       "4                             0                         0   \n",
       "...                         ...                       ...   \n",
       "57161                         0                         0   \n",
       "57162                         0                         0   \n",
       "57163                         0                         0   \n",
       "57164                         0                         0   \n",
       "57165                         0                         0   \n",
       "\n",
       "       Policy_Sales_Channel_159  Policy_Sales_Channel_160  \\\n",
       "0                             0                         0   \n",
       "1                             0                         0   \n",
       "2                             0                         0   \n",
       "3                             0                         0   \n",
       "4                             0                         0   \n",
       "...                         ...                       ...   \n",
       "57161                         0                         0   \n",
       "57162                         0                         0   \n",
       "57163                         0                         1   \n",
       "57164                         0                         0   \n",
       "57165                         0                         1   \n",
       "\n",
       "       Policy_Sales_Channel_163  Vehicle_Age_1-2 Year  Vehicle_Age_< 1 Year  \\\n",
       "0                             0                     1                     0   \n",
       "1                             0                     1                     0   \n",
       "2                             0                     1                     0   \n",
       "3                             0                     1                     0   \n",
       "4                             0                     1                     0   \n",
       "...                         ...                   ...                   ...   \n",
       "57161                         0                     1                     0   \n",
       "57162                         0                     0                     1   \n",
       "57163                         0                     0                     1   \n",
       "57164                         0                     0                     1   \n",
       "57165                         0                     0                     1   \n",
       "\n",
       "       Vehicle_Age_> 2 Years  \n",
       "0                          0  \n",
       "1                          0  \n",
       "2                          0  \n",
       "3                          0  \n",
       "4                          0  \n",
       "...                      ...  \n",
       "57161                      0  \n",
       "57162                      0  \n",
       "57163                      0  \n",
       "57164                      0  \n",
       "57165                      0  \n",
       "\n",
       "[57166 rows x 221 columns]"
      ]
     },
     "execution_count": 138,
     "metadata": {},
     "output_type": "execute_result"
    }
   ],
   "source": [
    "df_small_balanced = pd.read_csv('../data/pre-processed-data/data-small-size-balanced.csv')\n",
    "df_small_balanced"
   ]
  },
  {
   "cell_type": "code",
   "execution_count": 139,
   "metadata": {},
   "outputs": [
    {
     "data": {
      "text/html": [
       "<div>\n",
       "<style scoped>\n",
       "    .dataframe tbody tr th:only-of-type {\n",
       "        vertical-align: middle;\n",
       "    }\n",
       "\n",
       "    .dataframe tbody tr th {\n",
       "        vertical-align: top;\n",
       "    }\n",
       "\n",
       "    .dataframe thead th {\n",
       "        text-align: right;\n",
       "    }\n",
       "</style>\n",
       "<table border=\"1\" class=\"dataframe\">\n",
       "  <thead>\n",
       "    <tr style=\"text-align: right;\">\n",
       "      <th></th>\n",
       "      <th>Gender</th>\n",
       "      <th>Age</th>\n",
       "      <th>Driving_License</th>\n",
       "      <th>Previously_Insured</th>\n",
       "      <th>Vehicle_Damage</th>\n",
       "      <th>Annual_Premium</th>\n",
       "      <th>Vintage</th>\n",
       "      <th>Response</th>\n",
       "      <th>Region_Code_0</th>\n",
       "      <th>Region_Code_1</th>\n",
       "      <th>...</th>\n",
       "      <th>Policy_Sales_Channel_155</th>\n",
       "      <th>Policy_Sales_Channel_156</th>\n",
       "      <th>Policy_Sales_Channel_157</th>\n",
       "      <th>Policy_Sales_Channel_158</th>\n",
       "      <th>Policy_Sales_Channel_159</th>\n",
       "      <th>Policy_Sales_Channel_160</th>\n",
       "      <th>Policy_Sales_Channel_163</th>\n",
       "      <th>Vehicle_Age_1-2 Year</th>\n",
       "      <th>Vehicle_Age_&lt; 1 Year</th>\n",
       "      <th>Vehicle_Age_&gt; 2 Years</th>\n",
       "    </tr>\n",
       "  </thead>\n",
       "  <tbody>\n",
       "    <tr>\n",
       "      <th>0</th>\n",
       "      <td>1</td>\n",
       "      <td>43</td>\n",
       "      <td>1</td>\n",
       "      <td>0</td>\n",
       "      <td>1</td>\n",
       "      <td>2630.0</td>\n",
       "      <td>46</td>\n",
       "      <td>1</td>\n",
       "      <td>0</td>\n",
       "      <td>0</td>\n",
       "      <td>...</td>\n",
       "      <td>0</td>\n",
       "      <td>0</td>\n",
       "      <td>0</td>\n",
       "      <td>0</td>\n",
       "      <td>0</td>\n",
       "      <td>0</td>\n",
       "      <td>0</td>\n",
       "      <td>1</td>\n",
       "      <td>0</td>\n",
       "      <td>0</td>\n",
       "    </tr>\n",
       "    <tr>\n",
       "      <th>1</th>\n",
       "      <td>1</td>\n",
       "      <td>28</td>\n",
       "      <td>1</td>\n",
       "      <td>0</td>\n",
       "      <td>1</td>\n",
       "      <td>2630.0</td>\n",
       "      <td>281</td>\n",
       "      <td>1</td>\n",
       "      <td>0</td>\n",
       "      <td>0</td>\n",
       "      <td>...</td>\n",
       "      <td>0</td>\n",
       "      <td>0</td>\n",
       "      <td>1</td>\n",
       "      <td>0</td>\n",
       "      <td>0</td>\n",
       "      <td>0</td>\n",
       "      <td>0</td>\n",
       "      <td>1</td>\n",
       "      <td>0</td>\n",
       "      <td>0</td>\n",
       "    </tr>\n",
       "    <tr>\n",
       "      <th>2</th>\n",
       "      <td>0</td>\n",
       "      <td>34</td>\n",
       "      <td>1</td>\n",
       "      <td>0</td>\n",
       "      <td>1</td>\n",
       "      <td>50812.0</td>\n",
       "      <td>145</td>\n",
       "      <td>1</td>\n",
       "      <td>0</td>\n",
       "      <td>0</td>\n",
       "      <td>...</td>\n",
       "      <td>0</td>\n",
       "      <td>0</td>\n",
       "      <td>0</td>\n",
       "      <td>0</td>\n",
       "      <td>0</td>\n",
       "      <td>0</td>\n",
       "      <td>0</td>\n",
       "      <td>1</td>\n",
       "      <td>0</td>\n",
       "      <td>0</td>\n",
       "    </tr>\n",
       "    <tr>\n",
       "      <th>3</th>\n",
       "      <td>1</td>\n",
       "      <td>43</td>\n",
       "      <td>1</td>\n",
       "      <td>0</td>\n",
       "      <td>1</td>\n",
       "      <td>39089.0</td>\n",
       "      <td>21</td>\n",
       "      <td>1</td>\n",
       "      <td>0</td>\n",
       "      <td>0</td>\n",
       "      <td>...</td>\n",
       "      <td>0</td>\n",
       "      <td>0</td>\n",
       "      <td>0</td>\n",
       "      <td>0</td>\n",
       "      <td>0</td>\n",
       "      <td>0</td>\n",
       "      <td>0</td>\n",
       "      <td>1</td>\n",
       "      <td>0</td>\n",
       "      <td>0</td>\n",
       "    </tr>\n",
       "    <tr>\n",
       "      <th>4</th>\n",
       "      <td>1</td>\n",
       "      <td>44</td>\n",
       "      <td>1</td>\n",
       "      <td>0</td>\n",
       "      <td>1</td>\n",
       "      <td>34162.0</td>\n",
       "      <td>115</td>\n",
       "      <td>1</td>\n",
       "      <td>0</td>\n",
       "      <td>0</td>\n",
       "      <td>...</td>\n",
       "      <td>0</td>\n",
       "      <td>0</td>\n",
       "      <td>0</td>\n",
       "      <td>0</td>\n",
       "      <td>0</td>\n",
       "      <td>0</td>\n",
       "      <td>0</td>\n",
       "      <td>1</td>\n",
       "      <td>0</td>\n",
       "      <td>0</td>\n",
       "    </tr>\n",
       "  </tbody>\n",
       "</table>\n",
       "<p>5 rows × 219 columns</p>\n",
       "</div>"
      ],
      "text/plain": [
       "   Gender  Age  Driving_License  Previously_Insured  Vehicle_Damage  \\\n",
       "0       1   43                1                   0               1   \n",
       "1       1   28                1                   0               1   \n",
       "2       0   34                1                   0               1   \n",
       "3       1   43                1                   0               1   \n",
       "4       1   44                1                   0               1   \n",
       "\n",
       "   Annual_Premium  Vintage  Response  Region_Code_0  Region_Code_1  ...  \\\n",
       "0          2630.0       46         1              0              0  ...   \n",
       "1          2630.0      281         1              0              0  ...   \n",
       "2         50812.0      145         1              0              0  ...   \n",
       "3         39089.0       21         1              0              0  ...   \n",
       "4         34162.0      115         1              0              0  ...   \n",
       "\n",
       "   Policy_Sales_Channel_155  Policy_Sales_Channel_156  \\\n",
       "0                         0                         0   \n",
       "1                         0                         0   \n",
       "2                         0                         0   \n",
       "3                         0                         0   \n",
       "4                         0                         0   \n",
       "\n",
       "   Policy_Sales_Channel_157  Policy_Sales_Channel_158  \\\n",
       "0                         0                         0   \n",
       "1                         1                         0   \n",
       "2                         0                         0   \n",
       "3                         0                         0   \n",
       "4                         0                         0   \n",
       "\n",
       "   Policy_Sales_Channel_159  Policy_Sales_Channel_160  \\\n",
       "0                         0                         0   \n",
       "1                         0                         0   \n",
       "2                         0                         0   \n",
       "3                         0                         0   \n",
       "4                         0                         0   \n",
       "\n",
       "   Policy_Sales_Channel_163  Vehicle_Age_1-2 Year  Vehicle_Age_< 1 Year  \\\n",
       "0                         0                     1                     0   \n",
       "1                         0                     1                     0   \n",
       "2                         0                     1                     0   \n",
       "3                         0                     1                     0   \n",
       "4                         0                     1                     0   \n",
       "\n",
       "   Vehicle_Age_> 2 Years  \n",
       "0                      0  \n",
       "1                      0  \n",
       "2                      0  \n",
       "3                      0  \n",
       "4                      0  \n",
       "\n",
       "[5 rows x 219 columns]"
      ]
     },
     "execution_count": 139,
     "metadata": {},
     "output_type": "execute_result"
    }
   ],
   "source": [
    "df_small_balanced = df_small_balanced.iloc[:,2:]\n",
    "df_small_balanced.head()"
   ]
  },
  {
   "cell_type": "code",
   "execution_count": 140,
   "metadata": {},
   "outputs": [
    {
     "data": {
      "text/plain": [
       "1    28583\n",
       "0    28583\n",
       "Name: Response, dtype: int64"
      ]
     },
     "execution_count": 140,
     "metadata": {},
     "output_type": "execute_result"
    }
   ],
   "source": [
    "df_small_balanced['Response'].value_counts()"
   ]
  },
  {
   "cell_type": "code",
   "execution_count": 141,
   "metadata": {},
   "outputs": [],
   "source": [
    "X = df_small_balanced.drop('Response', axis = 1)\n",
    "y = df_small_balanced['Response']"
   ]
  },
  {
   "cell_type": "code",
   "execution_count": 142,
   "metadata": {},
   "outputs": [],
   "source": [
    "X_train, _, y_train, _ = train_test_split(X, y, random_state = 12)"
   ]
  },
  {
   "cell_type": "code",
   "execution_count": 143,
   "metadata": {},
   "outputs": [
    {
     "data": {
      "text/plain": [
       "0    16491\n",
       "1     2374\n",
       "Name: Response, dtype: int64"
      ]
     },
     "execution_count": 143,
     "metadata": {},
     "output_type": "execute_result"
    }
   ],
   "source": [
    "test_size = len(df_small_balanced.sample(frac=0.33))\n",
    "test_df = df.sample(n=test_size)\n",
    "test_df['Response'].value_counts()"
   ]
  },
  {
   "cell_type": "code",
   "execution_count": 152,
   "metadata": {},
   "outputs": [],
   "source": [
    "X_test = test_df.drop('Response', axis = 1)\n",
    "y_test = test_df['Response']"
   ]
  },
  {
   "cell_type": "code",
   "execution_count": 153,
   "metadata": {},
   "outputs": [
    {
     "name": "stdout",
     "output_type": "stream",
     "text": [
      "(42874, 218)\n",
      "(42874,)\n",
      "(18865, 218)\n",
      "(18865,)\n"
     ]
    }
   ],
   "source": [
    "print(X_train.shape)\n",
    "print(y_train.shape)\n",
    "print(X_test.shape)\n",
    "print(y_test.shape)"
   ]
  },
  {
   "cell_type": "code",
   "execution_count": 154,
   "metadata": {},
   "outputs": [
    {
     "name": "stdout",
     "output_type": "stream",
     "text": [
      "With our initial logistic regression model on our manually balanced dataset we are able to get a score of 0.4750066260270342\n"
     ]
    }
   ],
   "source": [
    "l_reg_small_manually_balanced = LogisticRegression(C = 0.4)\n",
    "l_reg_small_manually_balanced.fit(X_train, y_train)\n",
    "\n",
    "print('With our initial logistic regression model on our manually balanced dataset we are able to get a score of {}'.format(l_reg_small_manually_balanced.score(X_test, y_test)))"
   ]
  },
  {
   "cell_type": "code",
   "execution_count": 155,
   "metadata": {},
   "outputs": [],
   "source": [
    "c_list_2 = [0.00000000000001, 0.0000000123344, 0.0000007, 2, 70, 400, 1000, 100000000]\n",
    "results_manually_balanced = logistic_c_trials(c_list_2, X_train, X_test, y_train, y_test)"
   ]
  },
  {
   "cell_type": "code",
   "execution_count": 156,
   "metadata": {},
   "outputs": [
    {
     "data": {
      "text/plain": [
       "{'Train Score': [0.5004664831832812,\n",
       "  0.5189858655595466,\n",
       "  0.5674767924616317,\n",
       "  0.5658907496384755,\n",
       "  0.5658907496384755,\n",
       "  0.5658907496384755,\n",
       "  0.5658907496384755,\n",
       "  0.5658907496384755],\n",
       " 'Test Score': [0.12584150543334216,\n",
       "  0.3245163000265041,\n",
       "  0.4695467797508614,\n",
       "  0.4750066260270342,\n",
       "  0.4750066260270342,\n",
       "  0.4750066260270342,\n",
       "  0.4750066260270342,\n",
       "  0.4750066260270342],\n",
       " 'C': [1e-14, 1.23344e-08, 7e-07, 2, 70, 400, 1000, 100000000]}"
      ]
     },
     "execution_count": 156,
     "metadata": {},
     "output_type": "execute_result"
    }
   ],
   "source": [
    "results_manually_balanced"
   ]
  },
  {
   "cell_type": "code",
   "execution_count": 157,
   "metadata": {},
   "outputs": [
    {
     "data": {
      "image/png": "[encoded data removed]",
      "text/plain": [
       "<Figure size 1020x680 with 1 Axes>"
      ]
     },
     "metadata": {
      "needs_background": "light"
     },
     "output_type": "display_data"
    }
   ],
   "source": [
    "fig, ax = plt.subplots(figsize = (6,4), dpi = 170)\n",
    "ax.plot(range(len(results_manually_balanced['C'])), results_manually_balanced['Test Score'], label = 'Test')\n",
    "ax.plot(range(len(results_manually_balanced['C'])), results_manually_balanced['Train Score'], label = 'Train')\n",
    "ax.set_xticks(range(len(c_list_2)))\n",
    "ax.set_xticklabels(c_list_2)\n",
    "ax.legend()\n",
    "ax.set(xlabel = 'C', ylabel = 'Score', title = 'Score per C value')\n",
    "\n",
    "plt.show()"
   ]
  },
  {
   "cell_type": "code",
   "execution_count": 158,
   "metadata": {},
   "outputs": [
    {
     "data": {
      "text/plain": [
       "'The C value that gives the highest test score is 2.0000000 and the score is 47.50066260270342%'"
      ]
     },
     "execution_count": 158,
     "metadata": {},
     "output_type": "execute_result"
    }
   ],
   "source": [
    "#We can see in the c_list_2 that this is the second entry of the list, which is 0.00000000000001. It does not show the entire string due to some formatting. \n",
    "find_best_c(c_list_2, results_manually_balanced['Test Score'])"
   ]
  },
  {
   "cell_type": "markdown",
   "metadata": {},
   "source": [
    "#### Evaluating the model"
   ]
  },
  {
   "cell_type": "code",
   "execution_count": 159,
   "metadata": {},
   "outputs": [
    {
     "name": "stdout",
     "output_type": "stream",
     "text": [
      "With our final manually balanced Logistic regression model we are able to get a test score of 47.50066260270342%\n"
     ]
    }
   ],
   "source": [
    "l_reg_small_manually_balanced = LogisticRegression(C = 2)\n",
    "l_reg_small_manually_balanced.fit(X_train, y_train)\n",
    "\n",
    "print('With our final manually balanced Logistic regression model we are able to get a test score of {:.14%}'.format(l_reg_small_manually_balanced.score(X_test, y_test)))"
   ]
  },
  {
   "cell_type": "code",
   "execution_count": 160,
   "metadata": {},
   "outputs": [
    {
     "data": {
      "text/plain": [
       "[('Age', 1.0123596698788584),\n",
       " ('Vehicle_Damage', 1.0014350217788794),\n",
       " ('Vehicle_Age_1-2 Year', 1.0006608884883017),\n",
       " ('Region_Code_28', 1.0004363156350196),\n",
       " ('Policy_Sales_Channel_26', 1.0003993455636275),\n",
       " ('Policy_Sales_Channel_124', 1.0003183416555759),\n",
       " ('Gender', 1.0001812251453466),\n",
       " ('Vehicle_Age_> 2 Years', 1.0001803857130713),\n",
       " ('Policy_Sales_Channel_156', 1.0000670931093474),\n",
       " ('Policy_Sales_Channel_157', 1.0000660406742377)]"
      ]
     },
     "execution_count": 160,
     "metadata": {},
     "output_type": "execute_result"
    }
   ],
   "source": [
    "sorted(list(zip(X.columns, np.exp((l_reg_small_manually_balanced.coef_[0])))), key=lambda x: x[1], reverse = True)[:10]"
   ]
  },
  {
   "cell_type": "code",
   "execution_count": 161,
   "metadata": {},
   "outputs": [
    {
     "data": {
      "text/plain": [
       "[('Region_Code_30', 0.999961286921502),\n",
       " ('Region_Code_50', 0.999951766129002),\n",
       " ('Region_Code_15', 0.9999478849384895),\n",
       " ('Driving_License', 0.9999469263891292),\n",
       " ('Region_Code_8', 0.9999367806029059),\n",
       " ('Policy_Sales_Channel_160', 0.9998508387091984),\n",
       " ('Policy_Sales_Channel_152', 0.999133701467627),\n",
       " ('Vehicle_Age_< 1 Year', 0.9991031608948874),\n",
       " ('Previously_Insured', 0.9985710827540216),\n",
       " ('Vintage', 0.998215019323246)]"
      ]
     },
     "execution_count": 161,
     "metadata": {},
     "output_type": "execute_result"
    }
   ],
   "source": [
    "sorted(list(zip(X.columns, np.exp((l_reg_small_manually_balanced.coef_[0])))), key=lambda x: x[1], reverse = True)[-10:]"
   ]
  },
  {
   "cell_type": "code",
   "execution_count": 162,
   "metadata": {},
   "outputs": [
    {
     "data": {
      "text/plain": [
       "array([[7361, 9130],\n",
       "       [ 774, 1600]])"
      ]
     },
     "execution_count": 162,
     "metadata": {},
     "output_type": "execute_result"
    }
   ],
   "source": [
    "confusion_matrix(y_test, l_reg_small_manually_balanced.predict(X_test))"
   ]
  },
  {
   "cell_type": "code",
   "execution_count": 163,
   "metadata": {},
   "outputs": [
    {
     "name": "stdout",
     "output_type": "stream",
     "text": [
      "                precision    recall  f1-score   support\n",
      "\n",
      "Not interested       0.90      0.45      0.60     16491\n",
      "    Interested       0.15      0.67      0.24      2374\n",
      "\n",
      "      accuracy                           0.48     18865\n",
      "     macro avg       0.53      0.56      0.42     18865\n",
      "  weighted avg       0.81      0.48      0.55     18865\n",
      "\n"
     ]
    }
   ],
   "source": [
    "print(classification_report(y_test, l_reg_small_manually_balanced.predict(X_test), target_names=['Not interested', 'Interested']))"
   ]
  },
  {
   "cell_type": "code",
   "execution_count": 165,
   "metadata": {},
   "outputs": [
    {
     "data": {
      "image/png": "[encoded data removed]",
      "text/plain": [
       "<Figure size 850x680 with 2 Axes>"
      ]
     },
     "metadata": {
      "needs_background": "light"
     },
     "output_type": "display_data"
    }
   ],
   "source": [
    "l_reg_small_manually_balanced_clf_report = classification_report(y_test, l_reg_small_manually_balanced.predict(X_test), target_names=['Not interested', 'Interested'], output_dict=True)\n",
    "plot_clf_report(l_reg_small_manually_balanced_clf_report, title = 'Clf report manually balanced, class_weight = None')"
   ]
  },
  {
   "cell_type": "code",
   "execution_count": null,
   "metadata": {},
   "outputs": [],
   "source": []
  }
 ],
 "metadata": {
  "interpreter": {
   "hash": "40d3a090f54c6569ab1632332b64b2c03c39dcf918b08424e98f38b5ae0af88f"
  },
  "kernelspec": {
   "display_name": "Python 3.8.5 ('base')",
   "language": "python",
   "name": "python3"
  },
  "language_info": {
   "codemirror_mode": {
    "name": "ipython",
    "version": 3
   },
   "file_extension": ".py",
   "mimetype": "text/x-python",
   "name": "python",
   "nbconvert_exporter": "python",
   "pygments_lexer": "ipython3",
   "version": "3.8.5"
  },
  "orig_nbformat": 4
 },
 "nbformat": 4,
 "nbformat_minor": 2
}
